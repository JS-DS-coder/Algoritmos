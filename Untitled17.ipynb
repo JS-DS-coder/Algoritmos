{
  "nbformat": 4,
  "nbformat_minor": 0,
  "metadata": {
    "colab": {
      "provenance": [],
      "authorship_tag": "ABX9TyNFCb5ub0yIecVZKarioHcM",
      "include_colab_link": true
    },
    "kernelspec": {
      "name": "python3",
      "display_name": "Python 3"
    },
    "language_info": {
      "name": "python"
    }
  },
  "cells": [
    {
      "cell_type": "markdown",
      "metadata": {
        "id": "view-in-github",
        "colab_type": "text"
      },
      "source": [
        "<a href=\"https://colab.research.google.com/github/JS-DS-coder/Algoritmos/blob/main/Untitled17.ipynb\" target=\"_parent\"><img src=\"https://colab.research.google.com/assets/colab-badge.svg\" alt=\"Open In Colab\"/></a>"
      ]
    },
    {
      "cell_type": "markdown",
      "source": [
        "**Laboratorio 1**\n",
        "\n",
        "Ing. Jairo Salazar"
      ],
      "metadata": {
        "id": "vJJcoG0oX7ez"
      }
    },
    {
      "cell_type": "code",
      "source": [
        "import numpy as np\n",
        "import timeit"
      ],
      "metadata": {
        "id": "V8rGRLA6YKtg"
      },
      "execution_count": 11,
      "outputs": []
    },
    {
      "cell_type": "code",
      "source": [
        "a = np.array([1,2,3])\n",
        "a"
      ],
      "metadata": {
        "colab": {
          "base_uri": "https://localhost:8080/"
        },
        "id": "HNHNy0xwYWBV",
        "outputId": "621226f2-5a31-481b-f750-fb1583aa2854"
      },
      "execution_count": 25,
      "outputs": [
        {
          "output_type": "execute_result",
          "data": {
            "text/plain": [
              "array([1, 2, 3])"
            ]
          },
          "metadata": {},
          "execution_count": 25
        }
      ]
    },
    {
      "cell_type": "code",
      "source": [
        "b =  np.array([(1.5,2,3),(2.3,1,3)],dtype=float)\n",
        "b"
      ],
      "metadata": {
        "colab": {
          "base_uri": "https://localhost:8080/"
        },
        "id": "skcZPudKYtjh",
        "outputId": "f86b34d3-88f4-4a0b-e508-6312a297f75f"
      },
      "execution_count": 26,
      "outputs": [
        {
          "output_type": "execute_result",
          "data": {
            "text/plain": [
              "array([[1.5, 2. , 3. ],\n",
              "       [2.3, 1. , 3. ]])"
            ]
          },
          "metadata": {},
          "execution_count": 26
        }
      ]
    },
    {
      "cell_type": "code",
      "source": [
        "c = np.array([[(1.5,2,3), (4,5,6)],[(3,2,1), (4,5,6)]], dtype = float)\n",
        "c"
      ],
      "metadata": {
        "colab": {
          "base_uri": "https://localhost:8080/"
        },
        "id": "Nmd79fZMYuen",
        "outputId": "ee83346f-46ec-4000-c57f-c10a479d023e"
      },
      "execution_count": 8,
      "outputs": [
        {
          "output_type": "execute_result",
          "data": {
            "text/plain": [
              "array([[[1.5, 2. , 3. ],\n",
              "        [4. , 5. , 6. ]],\n",
              "\n",
              "       [[3. , 2. , 1. ],\n",
              "        [4. , 5. , 6. ]]])"
            ]
          },
          "metadata": {},
          "execution_count": 8
        }
      ]
    },
    {
      "cell_type": "code",
      "source": [
        "d = np.arange(15000)\n",
        "d"
      ],
      "metadata": {
        "colab": {
          "base_uri": "https://localhost:8080/"
        },
        "id": "7u_3dnUichD0",
        "outputId": "ed17edb7-77b0-4948-d89e-ac6643819567"
      },
      "execution_count": 14,
      "outputs": [
        {
          "output_type": "execute_result",
          "data": {
            "text/plain": [
              "array([    0,     1,     2, ..., 14997, 14998, 14999])"
            ]
          },
          "metadata": {},
          "execution_count": 14
        }
      ]
    },
    {
      "cell_type": "markdown",
      "source": [
        "El poder de PYTHON son las operaciones VECTORIZADAS"
      ],
      "metadata": {
        "id": "hdPyGEZZb5-4"
      }
    },
    {
      "cell_type": "code",
      "source": [
        "# iterative sum\n",
        "total = 0\n",
        "for item in range(0, 15000):\n",
        "    total += item\n",
        "a = total\n",
        "print(\"\\n\" + str(a))\n",
        "\n",
        "print(\"Time taken by iterative sum : \", end = \"\")\n",
        "%timeit a"
      ],
      "metadata": {
        "colab": {
          "base_uri": "https://localhost:8080/"
        },
        "id": "tjbibj5UcS3f",
        "outputId": "60a1a1a0-9e66-4ee3-e97a-b78821fced0c"
      },
      "execution_count": 12,
      "outputs": [
        {
          "output_type": "stream",
          "name": "stdout",
          "text": [
            "\n",
            "112492500\n",
            "Time taken by iterative sum : 33.6 ns ± 0.312 ns per loop (mean ± std. dev. of 7 runs, 10000000 loops each)\n"
          ]
        }
      ]
    },
    {
      "cell_type": "code",
      "source": [
        "# vectorized sum\n",
        "print(np.sum(d))\n",
        "\n",
        "print(\"Time taken by vectorized sum : \", end = \"\")\n",
        "%timeit np.sum(d)"
      ],
      "metadata": {
        "colab": {
          "base_uri": "https://localhost:8080/"
        },
        "id": "AMtgyRCbccRS",
        "outputId": "b1000176-6d82-4052-db9b-39e4e151ef3a"
      },
      "execution_count": 16,
      "outputs": [
        {
          "output_type": "stream",
          "name": "stdout",
          "text": [
            "112492500\n",
            "Time taken by vectorized sum : 7.07 µs ± 113 ns per loop (mean ± std. dev. of 7 runs, 100000 loops each)\n"
          ]
        }
      ]
    },
    {
      "cell_type": "markdown",
      "source": [
        "**Operaciones vectorizadas**"
      ],
      "metadata": {
        "id": "tZKGf4XudKPc"
      }
    },
    {
      "cell_type": "code",
      "source": [
        "g = a + b\n",
        "g"
      ],
      "metadata": {
        "colab": {
          "base_uri": "https://localhost:8080/"
        },
        "id": "dUdHXLB5beBJ",
        "outputId": "ae40ed0d-ce44-48af-dea8-bb820dabede4"
      },
      "execution_count": 10,
      "outputs": [
        {
          "output_type": "execute_result",
          "data": {
            "text/plain": [
              "array([[2.5, 4. , 6. ],\n",
              "       [3.3, 3. , 6. ]])"
            ]
          },
          "metadata": {},
          "execution_count": 10
        }
      ]
    },
    {
      "cell_type": "code",
      "source": [
        "h = a/b\n",
        "h"
      ],
      "metadata": {
        "colab": {
          "base_uri": "https://localhost:8080/"
        },
        "id": "y34eYucpdOba",
        "outputId": "696df1fa-e296-41e9-b55f-8e5705b72b70"
      },
      "execution_count": 23,
      "outputs": [
        {
          "output_type": "execute_result",
          "data": {
            "text/plain": [
              "array([[7.49950000e+07, 5.62462500e+07, 3.74975000e+07],\n",
              "       [4.89097826e+07, 1.12492500e+08, 3.74975000e+07]])"
            ]
          },
          "metadata": {},
          "execution_count": 23
        }
      ]
    },
    {
      "cell_type": "code",
      "source": [
        "a==b\n",
        "a<b"
      ],
      "metadata": {
        "colab": {
          "base_uri": "https://localhost:8080/"
        },
        "id": "kHxZZRoddw5D",
        "outputId": "c2a175b3-2e31-4858-c785-21b815cce714"
      },
      "execution_count": 28,
      "outputs": [
        {
          "output_type": "execute_result",
          "data": {
            "text/plain": [
              "array([[ True,  True,  True],\n",
              "       [ True, False,  True]])"
            ]
          },
          "metadata": {},
          "execution_count": 28
        }
      ]
    },
    {
      "cell_type": "code",
      "source": [
        "#comentario\n",
        "a.sum()\n",
        "a.min()\n",
        "b.max(axis=0)\n",
        "b.mean()\n",
        "np.median(b)\n",
        "np.corrcoef(a)\n",
        "np.std(b)\n"
      ],
      "metadata": {
        "colab": {
          "base_uri": "https://localhost:8080/"
        },
        "id": "SLe-L7vXeFrw",
        "outputId": "f0819f62-6ff1-46f5-ce7d-dc5a8eed6523"
      },
      "execution_count": 37,
      "outputs": [
        {
          "output_type": "execute_result",
          "data": {
            "text/plain": [
              "0.7340905181848413"
            ]
          },
          "metadata": {},
          "execution_count": 37
        }
      ]
    },
    {
      "cell_type": "markdown",
      "source": [
        "**IF THEN ELSE**"
      ],
      "metadata": {
        "id": "KwrznqjsfKlL"
      }
    },
    {
      "cell_type": "code",
      "source": [
        "edad_alumno = 15 #bloque1\n",
        "edad_minima_votacion = 18 #bloque1\n",
        "\n",
        "if edad_alumno >= edad_minima_votacion :\n",
        "\n",
        "    print(\"El alumno puede votar\") # bloque2\n",
        "    print(\"Generar horario de votación\") #bloque2\n",
        "else:\n",
        "    print(\"El alumno no puede votar\") #bloque3\n",
        "\n",
        "print(\"Esto no es parte del 'if' ni del 'else' y se ejecuta despues de estos bloques de código independientemente\") #bloque4"
      ],
      "metadata": {
        "colab": {
          "base_uri": "https://localhost:8080/"
        },
        "id": "YWaYJaunfKYr",
        "outputId": "ca4b1f41-e14d-42ea-e6db-8a23b310b5b9"
      },
      "execution_count": 41,
      "outputs": [
        {
          "output_type": "stream",
          "name": "stdout",
          "text": [
            "El alumno no puede votar\n",
            "Esto no es parte del 'if' ni del 'else' y se ejecuta despues de estos bloques de código independientemente\n"
          ]
        }
      ]
    },
    {
      "cell_type": "code",
      "source": [
        "x = 0.4\n",
        "if   0 < x < 1:\n",
        "    print(\"x se encuentra entre 0 y 1\")"
      ],
      "metadata": {
        "colab": {
          "base_uri": "https://localhost:8080/"
        },
        "id": "C_a2VXcpfIpu",
        "outputId": "0076724e-482a-48f9-9386-3d6f17e4029d"
      },
      "execution_count": 44,
      "outputs": [
        {
          "output_type": "stream",
          "name": "stdout",
          "text": [
            "x se encuentra entre 0 y 1\n"
          ]
        }
      ]
    },
    {
      "cell_type": "code",
      "source": [
        "monto = 1000.00\n",
        "pais = \"HN\"\n",
        "interes = 0.0\n",
        "\n",
        "if pais == \"GT\":\n",
        "    interes = 0.1\n",
        "elif pais == \"ES\":\n",
        "    interes = 0.15\n",
        "elif pais == \"HN\":\n",
        "    interes = 0.05\n",
        "elif pais == \"NI\":\n",
        "    interes = 0.2\n",
        "elif pais == \"CR\":\n",
        "    interes = 0.07\n",
        "elif pais == \"PA\":\n",
        "    interes = 0.08\n",
        "else:\n",
        "    print(\"Alerta: Pais no valido :\",pais)\n",
        "\n",
        "#nuevo_monto = monto + (monto*interes)\n",
        "monto += (monto * interes)\n",
        "nuevo_monto = monto\n",
        "print(\"Monto con intereses:\",nuevo_monto)"
      ],
      "metadata": {
        "colab": {
          "base_uri": "https://localhost:8080/"
        },
        "id": "TsNjW4glfvQC",
        "outputId": "54b32b40-7917-4bcb-d318-bcd20fc5145e"
      },
      "execution_count": 45,
      "outputs": [
        {
          "output_type": "stream",
          "name": "stdout",
          "text": [
            "Monto con intereses: 1050.0\n"
          ]
        }
      ]
    },
    {
      "cell_type": "code",
      "source": [
        "def predecir(modelo=1,x=0):\n",
        "\n",
        "    y = 0\n",
        "    if modelo == 1:\n",
        "        y = x*2\n",
        "    elif modelo == 2:\n",
        "        y = x**2 + 1\n",
        "    elif modelo == 3:\n",
        "        y = x/2 + 5\n",
        "    else:\n",
        "        y = x\n",
        "\n",
        "    return y"
      ],
      "metadata": {
        "id": "lmU3T-mcgPPp"
      },
      "execution_count": 47,
      "outputs": []
    },
    {
      "cell_type": "code",
      "source": [
        "fecha_registro = 20170101 #yyyymmdd\n",
        "x = 20\n",
        "\n",
        "if fecha_registro <= 20170909:\n",
        "    modelo_usado = 1\n",
        "    print(\"Usando modelo 1\")\n",
        "elif fecha_registro <=  20100606:\n",
        "    modelo_usado = 2\n",
        "    print(\"Usando modelo 2\")\n",
        "elif fecha_registro > 20100606:\n",
        "    modelo_usado = 3\n",
        "    print(\"Usando modelo 3\")\n",
        "\n",
        "prediccion = predecir( modelo_usado,x)\n",
        "\n",
        "prediccion"
      ],
      "metadata": {
        "colab": {
          "base_uri": "https://localhost:8080/"
        },
        "id": "_E-n-0H2gQ6s",
        "outputId": "15d4667a-8941-4d9e-a5c0-f87225a1b67c"
      },
      "execution_count": 48,
      "outputs": [
        {
          "output_type": "stream",
          "name": "stdout",
          "text": [
            "Usando modelo 1\n"
          ]
        },
        {
          "output_type": "execute_result",
          "data": {
            "text/plain": [
              "40"
            ]
          },
          "metadata": {},
          "execution_count": 48
        }
      ]
    },
    {
      "cell_type": "markdown",
      "source": [
        "\"ShortHand if\"\n",
        "Aun cuando dijimos que \"if\", \"elif\" y \"else\" son las bases para crear condicionales en Python , existe una alternativa abreviada al \"if\" e \"if-else\" que nos ayuda en muchos casos a mejorar la legibilidad de nuestros programas y reducirlos a una versión \"corta\" de una sola linea, esta se conoce como short hand if y tiene la forma\n",
        "\n",
        "< accion A > if < condición > else < acción B>\n",
        "\n",
        "Esta versión es útil cuando queremos realizar una única acción como resultado de la evaluación de condición en lugar de un bloque de múltiples acciones"
      ],
      "metadata": {
        "id": "I4JjR33xgxIZ"
      }
    },
    {
      "cell_type": "code",
      "source": [
        "print(\"A\") if 10 > 5 else print(\"B\")"
      ],
      "metadata": {
        "colab": {
          "base_uri": "https://localhost:8080/"
        },
        "id": "KU1F3arlgypi",
        "outputId": "55e0f23a-c10c-40b8-9284-edd35a52c13b"
      },
      "execution_count": 49,
      "outputs": [
        {
          "output_type": "stream",
          "name": "stdout",
          "text": [
            "A\n"
          ]
        }
      ]
    },
    {
      "cell_type": "code",
      "source": [
        "x = 10\n",
        "\n",
        "f = 2*x + 1 # f(x)\n",
        "g = 5*x + 7 # g(x)"
      ],
      "metadata": {
        "id": "_dQ-gsYXhCBn"
      },
      "execution_count": 50,
      "outputs": []
    },
    {
      "cell_type": "code",
      "source": [
        "if x >= 0:\n",
        "    y = f\n",
        "else:\n",
        "    y = g\n",
        "\n",
        "print(y)"
      ],
      "metadata": {
        "colab": {
          "base_uri": "https://localhost:8080/"
        },
        "id": "f-yhUr7xhFKI",
        "outputId": "5e9ed2a8-df4c-4f05-9ab5-11acbeab8780"
      },
      "execution_count": 51,
      "outputs": [
        {
          "output_type": "stream",
          "name": "stdout",
          "text": [
            "21\n"
          ]
        }
      ]
    },
    {
      "cell_type": "code",
      "source": [
        "y = f if x >= 0 else g\n",
        "print(y)"
      ],
      "metadata": {
        "colab": {
          "base_uri": "https://localhost:8080/"
        },
        "id": "lI4nBAQfhGs2",
        "outputId": "6bd7164b-56fa-4da6-d45d-71feb753fd09"
      },
      "execution_count": 54,
      "outputs": [
        {
          "output_type": "stream",
          "name": "stdout",
          "text": [
            "21\n"
          ]
        }
      ]
    },
    {
      "cell_type": "markdown",
      "source": [
        "CICLOS"
      ],
      "metadata": {
        "id": "0qiJPwYmhX4R"
      }
    },
    {
      "cell_type": "code",
      "source": [
        "numero = 1\n",
        "N = 10\n",
        "\n",
        "while numero <= N:\n",
        "    print(numero)\n",
        "    numero+=1 #equivalente a numero = numero +1\n",
        "print(\"luego de while\")"
      ],
      "metadata": {
        "id": "kNWot0xbhZEl"
      },
      "execution_count": null,
      "outputs": []
    },
    {
      "cell_type": "code",
      "source": [
        "numero = 2\n",
        "N = 10\n",
        "\n",
        "while numero <= N:\n",
        "    print(numero)\n",
        "    numero+=2 #equivalente a numero = numero +1"
      ],
      "metadata": {
        "id": "7Pbp1us2hl6N"
      },
      "execution_count": null,
      "outputs": []
    },
    {
      "cell_type": "code",
      "source": [
        "carnets = [123,124,125,126]\n",
        "\n",
        "for carnet in carnets:\n",
        "    print(carnet)"
      ],
      "metadata": {
        "colab": {
          "base_uri": "https://localhost:8080/"
        },
        "id": "72J_SK8Kigl6",
        "outputId": "21a56ea2-7107-4728-f76b-f9ae05e71a4a"
      },
      "execution_count": 57,
      "outputs": [
        {
          "output_type": "stream",
          "name": "stdout",
          "text": [
            "123\n",
            "124\n",
            "125\n",
            "126\n"
          ]
        }
      ]
    },
    {
      "cell_type": "code",
      "source": [
        "carnets = [123,124,125,126]\n",
        "carnet = \"5555\"\n",
        "\n",
        "for carnet in carnets:\n",
        "    print(carnet)\n",
        "\n",
        "print(carnet)"
      ],
      "metadata": {
        "colab": {
          "base_uri": "https://localhost:8080/"
        },
        "id": "Dztu4y8kiolS",
        "outputId": "c1aae898-901c-4f28-f48b-b83ba95a40f6"
      },
      "execution_count": 58,
      "outputs": [
        {
          "output_type": "stream",
          "name": "stdout",
          "text": [
            "123\n",
            "124\n",
            "125\n",
            "126\n",
            "126\n"
          ]
        }
      ]
    },
    {
      "cell_type": "code",
      "source": [
        "for letra in \"Python\":\n",
        "    print(letra)"
      ],
      "metadata": {
        "colab": {
          "base_uri": "https://localhost:8080/"
        },
        "id": "NK_5DbeOisT2",
        "outputId": "13080737-ed32-4a88-fc99-a58970777d84"
      },
      "execution_count": 59,
      "outputs": [
        {
          "output_type": "stream",
          "name": "stdout",
          "text": [
            "P\n",
            "y\n",
            "t\n",
            "h\n",
            "o\n",
            "n\n"
          ]
        }
      ]
    },
    {
      "cell_type": "code",
      "source": [],
      "metadata": {
        "id": "J4GCB5J_it2y"
      },
      "execution_count": null,
      "outputs": []
    }
  ]
}