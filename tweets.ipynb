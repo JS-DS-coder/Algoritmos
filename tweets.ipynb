{
  "nbformat": 4,
  "nbformat_minor": 0,
  "metadata": {
    "colab": {
      "name": "tweets.ipynb",
      "provenance": [],
      "collapsed_sections": [],
      "authorship_tag": "ABX9TyPikonls/a5D0sj+nI7XU57",
      "include_colab_link": true
    },
    "kernelspec": {
      "name": "python3",
      "display_name": "Python 3"
    },
    "language_info": {
      "name": "python"
    }
  },
  "cells": [
    {
      "cell_type": "markdown",
      "metadata": {
        "id": "view-in-github",
        "colab_type": "text"
      },
      "source": [
        "<a href=\"https://colab.research.google.com/github/JS-DS-coder/Algoritmos/blob/main/tweets.ipynb\" target=\"_parent\"><img src=\"https://colab.research.google.com/assets/colab-badge.svg\" alt=\"Open In Colab\"/></a>"
      ]
    },
    {
      "cell_type": "code",
      "metadata": {
        "id": "hPX1TgBAnb_6"
      },
      "source": [
        "import pandas as pd\n",
        "import numpy as np\n",
        "import matplotlib.pyplot as plt\n",
        "from wordcloud import WordCloud, STOPWORDS\n",
        "import re\n",
        "import spacy\n",
        "\n",
        "comment_words = ' '\n",
        "stopwords = set(STOPWORDS)\n"
      ],
      "execution_count": 1,
      "outputs": []
    },
    {
      "cell_type": "code",
      "metadata": {
        "colab": {
          "base_uri": "https://localhost:8080/"
        },
        "id": "YWbBz6uGCqkR",
        "outputId": "902177a9-6af9-4c3f-910e-4a12d8230616"
      },
      "source": [
        "!python -m spacy download en_core_web_lg\n",
        "\n"
      ],
      "execution_count": 38,
      "outputs": [
        {
          "output_type": "stream",
          "text": [
            "Collecting en_core_web_lg==2.2.5\n",
            "  Downloading https://github.com/explosion/spacy-models/releases/download/en_core_web_lg-2.2.5/en_core_web_lg-2.2.5.tar.gz (827.9 MB)\n",
            "\u001b[K     |████████████████████████████████| 827.9 MB 55.2 MB/s \n",
            "\u001b[?25hRequirement already satisfied: spacy>=2.2.2 in /usr/local/lib/python3.7/dist-packages (from en_core_web_lg==2.2.5) (2.2.4)\n",
            "Requirement already satisfied: tqdm<5.0.0,>=4.38.0 in /usr/local/lib/python3.7/dist-packages (from spacy>=2.2.2->en_core_web_lg==2.2.5) (4.62.0)\n",
            "Requirement already satisfied: wasabi<1.1.0,>=0.4.0 in /usr/local/lib/python3.7/dist-packages (from spacy>=2.2.2->en_core_web_lg==2.2.5) (0.8.2)\n",
            "Requirement already satisfied: blis<0.5.0,>=0.4.0 in /usr/local/lib/python3.7/dist-packages (from spacy>=2.2.2->en_core_web_lg==2.2.5) (0.4.1)\n",
            "Requirement already satisfied: plac<1.2.0,>=0.9.6 in /usr/local/lib/python3.7/dist-packages (from spacy>=2.2.2->en_core_web_lg==2.2.5) (1.1.3)\n",
            "Requirement already satisfied: srsly<1.1.0,>=1.0.2 in /usr/local/lib/python3.7/dist-packages (from spacy>=2.2.2->en_core_web_lg==2.2.5) (1.0.5)\n",
            "Requirement already satisfied: preshed<3.1.0,>=3.0.2 in /usr/local/lib/python3.7/dist-packages (from spacy>=2.2.2->en_core_web_lg==2.2.5) (3.0.5)\n",
            "Requirement already satisfied: thinc==7.4.0 in /usr/local/lib/python3.7/dist-packages (from spacy>=2.2.2->en_core_web_lg==2.2.5) (7.4.0)\n",
            "Requirement already satisfied: setuptools in /usr/local/lib/python3.7/dist-packages (from spacy>=2.2.2->en_core_web_lg==2.2.5) (57.4.0)\n",
            "Requirement already satisfied: requests<3.0.0,>=2.13.0 in /usr/local/lib/python3.7/dist-packages (from spacy>=2.2.2->en_core_web_lg==2.2.5) (2.23.0)\n",
            "Requirement already satisfied: catalogue<1.1.0,>=0.0.7 in /usr/local/lib/python3.7/dist-packages (from spacy>=2.2.2->en_core_web_lg==2.2.5) (1.0.0)\n",
            "Requirement already satisfied: cymem<2.1.0,>=2.0.2 in /usr/local/lib/python3.7/dist-packages (from spacy>=2.2.2->en_core_web_lg==2.2.5) (2.0.5)\n",
            "Requirement already satisfied: numpy>=1.15.0 in /usr/local/lib/python3.7/dist-packages (from spacy>=2.2.2->en_core_web_lg==2.2.5) (1.19.5)\n",
            "Requirement already satisfied: murmurhash<1.1.0,>=0.28.0 in /usr/local/lib/python3.7/dist-packages (from spacy>=2.2.2->en_core_web_lg==2.2.5) (1.0.5)\n",
            "Requirement already satisfied: importlib-metadata>=0.20 in /usr/local/lib/python3.7/dist-packages (from catalogue<1.1.0,>=0.0.7->spacy>=2.2.2->en_core_web_lg==2.2.5) (4.6.4)\n",
            "Requirement already satisfied: typing-extensions>=3.6.4 in /usr/local/lib/python3.7/dist-packages (from importlib-metadata>=0.20->catalogue<1.1.0,>=0.0.7->spacy>=2.2.2->en_core_web_lg==2.2.5) (3.7.4.3)\n",
            "Requirement already satisfied: zipp>=0.5 in /usr/local/lib/python3.7/dist-packages (from importlib-metadata>=0.20->catalogue<1.1.0,>=0.0.7->spacy>=2.2.2->en_core_web_lg==2.2.5) (3.5.0)\n",
            "Requirement already satisfied: urllib3!=1.25.0,!=1.25.1,<1.26,>=1.21.1 in /usr/local/lib/python3.7/dist-packages (from requests<3.0.0,>=2.13.0->spacy>=2.2.2->en_core_web_lg==2.2.5) (1.24.3)\n",
            "Requirement already satisfied: idna<3,>=2.5 in /usr/local/lib/python3.7/dist-packages (from requests<3.0.0,>=2.13.0->spacy>=2.2.2->en_core_web_lg==2.2.5) (2.10)\n",
            "Requirement already satisfied: certifi>=2017.4.17 in /usr/local/lib/python3.7/dist-packages (from requests<3.0.0,>=2.13.0->spacy>=2.2.2->en_core_web_lg==2.2.5) (2021.5.30)\n",
            "Requirement already satisfied: chardet<4,>=3.0.2 in /usr/local/lib/python3.7/dist-packages (from requests<3.0.0,>=2.13.0->spacy>=2.2.2->en_core_web_lg==2.2.5) (3.0.4)\n",
            "Building wheels for collected packages: en-core-web-lg\n",
            "  Building wheel for en-core-web-lg (setup.py) ... \u001b[?25l\u001b[?25hdone\n",
            "  Created wheel for en-core-web-lg: filename=en_core_web_lg-2.2.5-py3-none-any.whl size=829180942 sha256=743165a3d131dddf0493be53e4d94b95c9416f23c4963ded04b5608f4aabb9bd\n",
            "  Stored in directory: /tmp/pip-ephem-wheel-cache-4tjhgr77/wheels/11/95/ba/2c36cc368c0bd339b44a791c2c1881a1fb714b78c29a4cb8f5\n",
            "Successfully built en-core-web-lg\n",
            "Installing collected packages: en-core-web-lg\n",
            "Successfully installed en-core-web-lg-2.2.5\n",
            "\u001b[38;5;2m✔ Download and installation successful\u001b[0m\n",
            "You can now load the model via spacy.load('en_core_web_lg')\n"
          ],
          "name": "stdout"
        }
      ]
    },
    {
      "cell_type": "code",
      "metadata": {
        "id": "ua7aaMmOFs9F"
      },
      "source": [
        "nlp = spacy.load(\"en_core_web_lg\")"
      ],
      "execution_count": 2,
      "outputs": []
    },
    {
      "cell_type": "code",
      "metadata": {
        "colab": {
          "base_uri": "https://localhost:8080/",
          "height": 204
        },
        "id": "EiuR0xhonvP4",
        "outputId": "fd71bf23-ca69-49c6-90b2-1e672aa0929e"
      },
      "source": [
        "tweets = pd.read_csv(\"/content/training.1600000.processed.noemoticon.csv\",encoding='latin-1')\n",
        "\n",
        "tweets.columns =[\"id\",\"tweetid\",\"fecha\",\"noquery\",\"a\",\"tweet\"]\n",
        "tweets.head()\n",
        "#string = \"\"\n",
        "#for i in tweets.iterrows():\n",
        "#    string = string + str(i) +\" \"\n",
        "\n",
        "\n",
        "#print (*string)"
      ],
      "execution_count": 3,
      "outputs": [
        {
          "output_type": "execute_result",
          "data": {
            "text/html": [
              "<div>\n",
              "<style scoped>\n",
              "    .dataframe tbody tr th:only-of-type {\n",
              "        vertical-align: middle;\n",
              "    }\n",
              "\n",
              "    .dataframe tbody tr th {\n",
              "        vertical-align: top;\n",
              "    }\n",
              "\n",
              "    .dataframe thead th {\n",
              "        text-align: right;\n",
              "    }\n",
              "</style>\n",
              "<table border=\"1\" class=\"dataframe\">\n",
              "  <thead>\n",
              "    <tr style=\"text-align: right;\">\n",
              "      <th></th>\n",
              "      <th>id</th>\n",
              "      <th>tweetid</th>\n",
              "      <th>fecha</th>\n",
              "      <th>noquery</th>\n",
              "      <th>a</th>\n",
              "      <th>tweet</th>\n",
              "    </tr>\n",
              "  </thead>\n",
              "  <tbody>\n",
              "    <tr>\n",
              "      <th>0</th>\n",
              "      <td>0</td>\n",
              "      <td>1467810672</td>\n",
              "      <td>Mon Apr 06 22:19:49 PDT 2009</td>\n",
              "      <td>NO_QUERY</td>\n",
              "      <td>scotthamilton</td>\n",
              "      <td>is upset that he can't update his Facebook by ...</td>\n",
              "    </tr>\n",
              "    <tr>\n",
              "      <th>1</th>\n",
              "      <td>0</td>\n",
              "      <td>1467810917</td>\n",
              "      <td>Mon Apr 06 22:19:53 PDT 2009</td>\n",
              "      <td>NO_QUERY</td>\n",
              "      <td>mattycus</td>\n",
              "      <td>@Kenichan I dived many times for the ball. Man...</td>\n",
              "    </tr>\n",
              "    <tr>\n",
              "      <th>2</th>\n",
              "      <td>0</td>\n",
              "      <td>1467811184</td>\n",
              "      <td>Mon Apr 06 22:19:57 PDT 2009</td>\n",
              "      <td>NO_QUERY</td>\n",
              "      <td>ElleCTF</td>\n",
              "      <td>my whole body feels itchy and like its on fire</td>\n",
              "    </tr>\n",
              "    <tr>\n",
              "      <th>3</th>\n",
              "      <td>0</td>\n",
              "      <td>1467811193</td>\n",
              "      <td>Mon Apr 06 22:19:57 PDT 2009</td>\n",
              "      <td>NO_QUERY</td>\n",
              "      <td>Karoli</td>\n",
              "      <td>@nationwideclass no, it's not behaving at all....</td>\n",
              "    </tr>\n",
              "    <tr>\n",
              "      <th>4</th>\n",
              "      <td>0</td>\n",
              "      <td>1467811372</td>\n",
              "      <td>Mon Apr 06 22:20:00 PDT 2009</td>\n",
              "      <td>NO_QUERY</td>\n",
              "      <td>joy_wolf</td>\n",
              "      <td>@Kwesidei not the whole crew</td>\n",
              "    </tr>\n",
              "  </tbody>\n",
              "</table>\n",
              "</div>"
            ],
            "text/plain": [
              "   id  ...                                              tweet\n",
              "0   0  ...  is upset that he can't update his Facebook by ...\n",
              "1   0  ...  @Kenichan I dived many times for the ball. Man...\n",
              "2   0  ...    my whole body feels itchy and like its on fire \n",
              "3   0  ...  @nationwideclass no, it's not behaving at all....\n",
              "4   0  ...                      @Kwesidei not the whole crew \n",
              "\n",
              "[5 rows x 6 columns]"
            ]
          },
          "metadata": {},
          "execution_count": 3
        }
      ]
    },
    {
      "cell_type": "markdown",
      "metadata": {
        "id": "0_M7sSiLrAsA"
      },
      "source": [
        "# problema 2. \n",
        "Usando CoLab y expresiones regulares. Determine los 3 usuarios mas populares dentro del\n",
        "dataset. \n",
        "\n",
        "Luego arme un corpus el cual contenga los siguientes elementos por cada uno de los 3 usuario seleccionados:\n",
        "Content: \n",
        "texto del tweet.\n",
        "ID de tweeter, si el tweet no contiene ID deber´a colocar el string Undefined.,\n",
        "\n",
        "Timestamp,\n",
        "\n",
        "Largo del tweet."
      ]
    },
    {
      "cell_type": "code",
      "metadata": {
        "colab": {
          "base_uri": "https://localhost:8080/",
          "height": 289
        },
        "id": "mM3sixmKoJRf",
        "outputId": "d546bc59-dce7-4929-b5a9-df70650f028c"
      },
      "source": [
        "\n",
        "regex = r\"^@([A-Za-z]+[A-Za-z0-9_]+)(?![A-Za-z0-9_]*\\\\.)\"\n",
        "\n",
        "tweets['Usuarios'] = tweets.tweet.str.extract(regex, expand=True)\n",
        "tweets.head()\n",
        "\n"
      ],
      "execution_count": 4,
      "outputs": [
        {
          "output_type": "execute_result",
          "data": {
            "text/html": [
              "<div>\n",
              "<style scoped>\n",
              "    .dataframe tbody tr th:only-of-type {\n",
              "        vertical-align: middle;\n",
              "    }\n",
              "\n",
              "    .dataframe tbody tr th {\n",
              "        vertical-align: top;\n",
              "    }\n",
              "\n",
              "    .dataframe thead th {\n",
              "        text-align: right;\n",
              "    }\n",
              "</style>\n",
              "<table border=\"1\" class=\"dataframe\">\n",
              "  <thead>\n",
              "    <tr style=\"text-align: right;\">\n",
              "      <th></th>\n",
              "      <th>id</th>\n",
              "      <th>tweetid</th>\n",
              "      <th>fecha</th>\n",
              "      <th>noquery</th>\n",
              "      <th>a</th>\n",
              "      <th>tweet</th>\n",
              "      <th>Usuarios</th>\n",
              "    </tr>\n",
              "  </thead>\n",
              "  <tbody>\n",
              "    <tr>\n",
              "      <th>0</th>\n",
              "      <td>0</td>\n",
              "      <td>1467810672</td>\n",
              "      <td>Mon Apr 06 22:19:49 PDT 2009</td>\n",
              "      <td>NO_QUERY</td>\n",
              "      <td>scotthamilton</td>\n",
              "      <td>is upset that he can't update his Facebook by ...</td>\n",
              "      <td>NaN</td>\n",
              "    </tr>\n",
              "    <tr>\n",
              "      <th>1</th>\n",
              "      <td>0</td>\n",
              "      <td>1467810917</td>\n",
              "      <td>Mon Apr 06 22:19:53 PDT 2009</td>\n",
              "      <td>NO_QUERY</td>\n",
              "      <td>mattycus</td>\n",
              "      <td>@Kenichan I dived many times for the ball. Man...</td>\n",
              "      <td>Kenichan</td>\n",
              "    </tr>\n",
              "    <tr>\n",
              "      <th>2</th>\n",
              "      <td>0</td>\n",
              "      <td>1467811184</td>\n",
              "      <td>Mon Apr 06 22:19:57 PDT 2009</td>\n",
              "      <td>NO_QUERY</td>\n",
              "      <td>ElleCTF</td>\n",
              "      <td>my whole body feels itchy and like its on fire</td>\n",
              "      <td>NaN</td>\n",
              "    </tr>\n",
              "    <tr>\n",
              "      <th>3</th>\n",
              "      <td>0</td>\n",
              "      <td>1467811193</td>\n",
              "      <td>Mon Apr 06 22:19:57 PDT 2009</td>\n",
              "      <td>NO_QUERY</td>\n",
              "      <td>Karoli</td>\n",
              "      <td>@nationwideclass no, it's not behaving at all....</td>\n",
              "      <td>nationwideclass</td>\n",
              "    </tr>\n",
              "    <tr>\n",
              "      <th>4</th>\n",
              "      <td>0</td>\n",
              "      <td>1467811372</td>\n",
              "      <td>Mon Apr 06 22:20:00 PDT 2009</td>\n",
              "      <td>NO_QUERY</td>\n",
              "      <td>joy_wolf</td>\n",
              "      <td>@Kwesidei not the whole crew</td>\n",
              "      <td>Kwesidei</td>\n",
              "    </tr>\n",
              "  </tbody>\n",
              "</table>\n",
              "</div>"
            ],
            "text/plain": [
              "   id  ...         Usuarios\n",
              "0   0  ...              NaN\n",
              "1   0  ...         Kenichan\n",
              "2   0  ...              NaN\n",
              "3   0  ...  nationwideclass\n",
              "4   0  ...         Kwesidei\n",
              "\n",
              "[5 rows x 7 columns]"
            ]
          },
          "metadata": {},
          "execution_count": 4
        }
      ]
    },
    {
      "cell_type": "code",
      "metadata": {
        "colab": {
          "base_uri": "https://localhost:8080/"
        },
        "id": "fUGILjuu6f-A",
        "outputId": "baf98725-341d-4ef3-b8ec-612ecd375733"
      },
      "source": [
        "df = tweets.Usuarios.value_counts(dropna=True).head(3)\n",
        "df.columns = [\"usuario\",\"cantidad\"]\n",
        "df.head"
      ],
      "execution_count": 5,
      "outputs": [
        {
          "output_type": "execute_result",
          "data": {
            "text/plain": [
              "<bound method NDFrame.head of mileycyrus    3824\n",
              "tommcfly      3631\n",
              "ddlovato      2954\n",
              "Name: Usuarios, dtype: int64>"
            ]
          },
          "metadata": {},
          "execution_count": 5
        }
      ]
    },
    {
      "cell_type": "code",
      "metadata": {
        "id": "2i8UMu-k3y2x"
      },
      "source": [
        "def creaDataset (usuario):\n",
        "  dataset = tweets[tweets['tweet'].str.contains(usuario)][[\"tweet\",\"tweetid\",\"fecha\"]]\n",
        "  dataset [\"largo\"] = dataset['tweet'].str.len()\n",
        "  return dataset \n",
        "\n"
      ],
      "execution_count": 6,
      "outputs": []
    },
    {
      "cell_type": "code",
      "metadata": {
        "colab": {
          "base_uri": "https://localhost:8080/",
          "height": 419
        },
        "id": "OGf3G4Mb9WVC",
        "outputId": "6590f04a-6cd4-435e-96b3-1fa74d1749a8"
      },
      "source": [
        "dataset1 = creaDataset(\"mileycyrus\")\n",
        "dataset1 \n",
        "dataset2 = creaDataset(\"tommcfly\")\n",
        "dataset2 \n",
        "dataset3 = creaDataset(\"ddlovato\")\n",
        "dataset3 "
      ],
      "execution_count": 41,
      "outputs": [
        {
          "output_type": "execute_result",
          "data": {
            "text/html": [
              "<div>\n",
              "<style scoped>\n",
              "    .dataframe tbody tr th:only-of-type {\n",
              "        vertical-align: middle;\n",
              "    }\n",
              "\n",
              "    .dataframe tbody tr th {\n",
              "        vertical-align: top;\n",
              "    }\n",
              "\n",
              "    .dataframe thead th {\n",
              "        text-align: right;\n",
              "    }\n",
              "</style>\n",
              "<table border=\"1\" class=\"dataframe\">\n",
              "  <thead>\n",
              "    <tr style=\"text-align: right;\">\n",
              "      <th></th>\n",
              "      <th>tweet</th>\n",
              "      <th>tweetid</th>\n",
              "      <th>fecha</th>\n",
              "      <th>largo</th>\n",
              "    </tr>\n",
              "  </thead>\n",
              "  <tbody>\n",
              "    <tr>\n",
              "      <th>459</th>\n",
              "      <td>@ddlovato @David_Henrie ummmmm i cant find it.</td>\n",
              "      <td>1467929230</td>\n",
              "      <td>Mon Apr 06 22:51:34 PDT 2009</td>\n",
              "      <td>47</td>\n",
              "    </tr>\n",
              "    <tr>\n",
              "      <th>572</th>\n",
              "      <td>@ddlovato Do you hate us?? Please don't</td>\n",
              "      <td>1467953367</td>\n",
              "      <td>Mon Apr 06 22:58:30 PDT 2009</td>\n",
              "      <td>40</td>\n",
              "    </tr>\n",
              "    <tr>\n",
              "      <th>7031</th>\n",
              "      <td>@ddlovato Wish that i could see it..  Thats th...</td>\n",
              "      <td>1469661950</td>\n",
              "      <td>Tue Apr 07 07:02:58 PDT 2009</td>\n",
              "      <td>96</td>\n",
              "    </tr>\n",
              "    <tr>\n",
              "      <th>7088</th>\n",
              "      <td>@ddlovato hey demi, wen are you and selena gon...</td>\n",
              "      <td>1469674492</td>\n",
              "      <td>Tue Apr 07 07:05:11 PDT 2009</td>\n",
              "      <td>79</td>\n",
              "    </tr>\n",
              "    <tr>\n",
              "      <th>8610</th>\n",
              "      <td>@ddlovato ahhhh i wish i could go to the dalla...</td>\n",
              "      <td>1548280868</td>\n",
              "      <td>Fri Apr 17 20:31:31 PDT 2009</td>\n",
              "      <td>85</td>\n",
              "    </tr>\n",
              "    <tr>\n",
              "      <th>...</th>\n",
              "      <td>...</td>\n",
              "      <td>...</td>\n",
              "      <td>...</td>\n",
              "      <td>...</td>\n",
              "    </tr>\n",
              "    <tr>\n",
              "      <th>1592765</th>\n",
              "      <td>@ddlovato hope to see you soon</td>\n",
              "      <td>2191807303</td>\n",
              "      <td>Tue Jun 16 06:00:23 PDT 2009</td>\n",
              "      <td>31</td>\n",
              "    </tr>\n",
              "    <tr>\n",
              "      <th>1593102</th>\n",
              "      <td>Fell asleep to @chasecoy and woke up to @ddlov...</td>\n",
              "      <td>2191867976</td>\n",
              "      <td>Tue Jun 16 06:06:42 PDT 2009</td>\n",
              "      <td>82</td>\n",
              "    </tr>\n",
              "    <tr>\n",
              "      <th>1593329</th>\n",
              "      <td>@ddlovato I VOTED!! =]]] can't wait</td>\n",
              "      <td>2191922960</td>\n",
              "      <td>Tue Jun 16 06:12:27 PDT 2009</td>\n",
              "      <td>36</td>\n",
              "    </tr>\n",
              "    <tr>\n",
              "      <th>1597790</th>\n",
              "      <td>FINALLY 15 TOMORROW And @MirandaBuzz @jennette...</td>\n",
              "      <td>2193009210</td>\n",
              "      <td>Tue Jun 16 07:52:11 PDT 2009</td>\n",
              "      <td>117</td>\n",
              "    </tr>\n",
              "    <tr>\n",
              "      <th>1599255</th>\n",
              "      <td>@ddlovato i just voted for you and i've drawn ...</td>\n",
              "      <td>2193401957</td>\n",
              "      <td>Tue Jun 16 08:24:35 PDT 2009</td>\n",
              "      <td>104</td>\n",
              "    </tr>\n",
              "  </tbody>\n",
              "</table>\n",
              "<p>3500 rows × 4 columns</p>\n",
              "</div>"
            ],
            "text/plain": [
              "                                                     tweet  ...  largo\n",
              "459        @ddlovato @David_Henrie ummmmm i cant find it.   ...     47\n",
              "572               @ddlovato Do you hate us?? Please don't   ...     40\n",
              "7031     @ddlovato Wish that i could see it..  Thats th...  ...     96\n",
              "7088     @ddlovato hey demi, wen are you and selena gon...  ...     79\n",
              "8610     @ddlovato ahhhh i wish i could go to the dalla...  ...     85\n",
              "...                                                    ...  ...    ...\n",
              "1592765                    @ddlovato hope to see you soon   ...     31\n",
              "1593102  Fell asleep to @chasecoy and woke up to @ddlov...  ...     82\n",
              "1593329               @ddlovato I VOTED!! =]]] can't wait   ...     36\n",
              "1597790  FINALLY 15 TOMORROW And @MirandaBuzz @jennette...  ...    117\n",
              "1599255  @ddlovato i just voted for you and i've drawn ...  ...    104\n",
              "\n",
              "[3500 rows x 4 columns]"
            ]
          },
          "metadata": {},
          "execution_count": 41
        }
      ]
    },
    {
      "cell_type": "markdown",
      "metadata": {
        "id": "ueLknvlNACwI"
      },
      "source": [
        "# Normalizacion"
      ]
    },
    {
      "cell_type": "code",
      "metadata": {
        "id": "ej5oxFzhAF81"
      },
      "source": [
        "def Normalizacion(corpus):\n",
        "    newCorpus = []\n",
        "    for doc in corpus:\n",
        "        newCorpus.append(re.sub(r'[^a-zA-Z0-9\\s{1}áéíóúüñÁÉÍÓÚ]', '', doc).lower().strip().rstrip('\\n').rstrip('\\r\\n'))\n",
        "    return newCorpus"
      ],
      "execution_count": 8,
      "outputs": []
    },
    {
      "cell_type": "code",
      "metadata": {
        "colab": {
          "base_uri": "https://localhost:8080/",
          "height": 589
        },
        "id": "rP9p4bxYA8OI",
        "outputId": "75f434c8-fadf-43f5-e777-e33530006f90"
      },
      "source": [
        "corpus = dataset1.tweet\n",
        "dataset1[\"tweetNormalizado\"] = Normalizacion(corpus)\n",
        "dataset1"
      ],
      "execution_count": 9,
      "outputs": [
        {
          "output_type": "execute_result",
          "data": {
            "text/html": [
              "<div>\n",
              "<style scoped>\n",
              "    .dataframe tbody tr th:only-of-type {\n",
              "        vertical-align: middle;\n",
              "    }\n",
              "\n",
              "    .dataframe tbody tr th {\n",
              "        vertical-align: top;\n",
              "    }\n",
              "\n",
              "    .dataframe thead th {\n",
              "        text-align: right;\n",
              "    }\n",
              "</style>\n",
              "<table border=\"1\" class=\"dataframe\">\n",
              "  <thead>\n",
              "    <tr style=\"text-align: right;\">\n",
              "      <th></th>\n",
              "      <th>tweet</th>\n",
              "      <th>tweetid</th>\n",
              "      <th>fecha</th>\n",
              "      <th>largo</th>\n",
              "      <th>tweetNormalizado</th>\n",
              "    </tr>\n",
              "  </thead>\n",
              "  <tbody>\n",
              "    <tr>\n",
              "      <th>1020</th>\n",
              "      <td>@mileycyrus hahaha dont be like that one time ...</td>\n",
              "      <td>1468063101</td>\n",
              "      <td>Mon Apr 06 23:30:57 PDT 2009</td>\n",
              "      <td>107</td>\n",
              "      <td>mileycyrus hahaha dont be like that one time i...</td>\n",
              "    </tr>\n",
              "    <tr>\n",
              "      <th>2013</th>\n",
              "      <td>@mileycyrus i have the same problem, but it's ...</td>\n",
              "      <td>1468286517</td>\n",
              "      <td>Tue Apr 07 00:45:20 PDT 2009</td>\n",
              "      <td>137</td>\n",
              "      <td>mileycyrus i have the same problem but its 443...</td>\n",
              "    </tr>\n",
              "    <tr>\n",
              "      <th>2072</th>\n",
              "      <td>@mileycyrus I guess counting sheep didn't work...</td>\n",
              "      <td>1468297110</td>\n",
              "      <td>Tue Apr 07 00:49:07 PDT 2009</td>\n",
              "      <td>72</td>\n",
              "      <td>mileycyrus i guess counting sheep didnt work  ...</td>\n",
              "    </tr>\n",
              "    <tr>\n",
              "      <th>2079</th>\n",
              "      <td>@mileycyrus I would too if it meant spending a...</td>\n",
              "      <td>1468298918</td>\n",
              "      <td>Tue Apr 07 00:49:44 PDT 2009</td>\n",
              "      <td>100</td>\n",
              "      <td>mileycyrus i would too if it meant spending a ...</td>\n",
              "    </tr>\n",
              "    <tr>\n",
              "      <th>2155</th>\n",
              "      <td>@mileycyrus AWWW u seriously have the cutest d...</td>\n",
              "      <td>1468318249</td>\n",
              "      <td>Tue Apr 07 00:56:41 PDT 2009</td>\n",
              "      <td>112</td>\n",
              "      <td>mileycyrus awww u seriously have the cutest do...</td>\n",
              "    </tr>\n",
              "    <tr>\n",
              "      <th>...</th>\n",
              "      <td>...</td>\n",
              "      <td>...</td>\n",
              "      <td>...</td>\n",
              "      <td>...</td>\n",
              "      <td>...</td>\n",
              "    </tr>\n",
              "    <tr>\n",
              "      <th>1595290</th>\n",
              "      <td>Hey @mileycyrus I voted for you at the teen ch...</td>\n",
              "      <td>2192336083</td>\n",
              "      <td>Tue Jun 16 06:52:58 PDT 2009</td>\n",
              "      <td>104</td>\n",
              "      <td>hey mileycyrus i voted for you at the teen cho...</td>\n",
              "    </tr>\n",
              "    <tr>\n",
              "      <th>1596795</th>\n",
              "      <td>@mileycyrus http://twitpic.com/7f5fy - I love ...</td>\n",
              "      <td>2192768714</td>\n",
              "      <td>Tue Jun 16 07:31:21 PDT 2009</td>\n",
              "      <td>112</td>\n",
              "      <td>mileycyrus httptwitpiccom7f5fy  i love you mil...</td>\n",
              "    </tr>\n",
              "    <tr>\n",
              "      <th>1597904</th>\n",
              "      <td>@mileycyrus i see the photos of your KISS iss ...</td>\n",
              "      <td>2193052811</td>\n",
              "      <td>Tue Jun 16 07:55:55 PDT 2009</td>\n",
              "      <td>74</td>\n",
              "      <td>mileycyrus i see the photos of your kiss iss b...</td>\n",
              "    </tr>\n",
              "    <tr>\n",
              "      <th>1598347</th>\n",
              "      <td>@mileycyrus i am definitley definitley getting...</td>\n",
              "      <td>2193155701</td>\n",
              "      <td>Tue Jun 16 08:04:20 PDT 2009</td>\n",
              "      <td>139</td>\n",
              "      <td>mileycyrus i am definitley definitley getting ...</td>\n",
              "    </tr>\n",
              "    <tr>\n",
              "      <th>1599234</th>\n",
              "      <td>@mileycyrus  well  hello miley  hows life as a...</td>\n",
              "      <td>2193400885</td>\n",
              "      <td>Tue Jun 16 08:24:29 PDT 2009</td>\n",
              "      <td>114</td>\n",
              "      <td>mileycyrus  well  hello miley  hows life as a ...</td>\n",
              "    </tr>\n",
              "  </tbody>\n",
              "</table>\n",
              "<p>4539 rows × 5 columns</p>\n",
              "</div>"
            ],
            "text/plain": [
              "                                                     tweet  ...                                   tweetNormalizado\n",
              "1020     @mileycyrus hahaha dont be like that one time ...  ...  mileycyrus hahaha dont be like that one time i...\n",
              "2013     @mileycyrus i have the same problem, but it's ...  ...  mileycyrus i have the same problem but its 443...\n",
              "2072     @mileycyrus I guess counting sheep didn't work...  ...  mileycyrus i guess counting sheep didnt work  ...\n",
              "2079     @mileycyrus I would too if it meant spending a...  ...  mileycyrus i would too if it meant spending a ...\n",
              "2155     @mileycyrus AWWW u seriously have the cutest d...  ...  mileycyrus awww u seriously have the cutest do...\n",
              "...                                                    ...  ...                                                ...\n",
              "1595290  Hey @mileycyrus I voted for you at the teen ch...  ...  hey mileycyrus i voted for you at the teen cho...\n",
              "1596795  @mileycyrus http://twitpic.com/7f5fy - I love ...  ...  mileycyrus httptwitpiccom7f5fy  i love you mil...\n",
              "1597904  @mileycyrus i see the photos of your KISS iss ...  ...  mileycyrus i see the photos of your kiss iss b...\n",
              "1598347  @mileycyrus i am definitley definitley getting...  ...  mileycyrus i am definitley definitley getting ...\n",
              "1599234  @mileycyrus  well  hello miley  hows life as a...  ...  mileycyrus  well  hello miley  hows life as a ...\n",
              "\n",
              "[4539 rows x 5 columns]"
            ]
          },
          "metadata": {},
          "execution_count": 9
        }
      ]
    },
    {
      "cell_type": "markdown",
      "metadata": {
        "id": "O6fd4tOEBh2K"
      },
      "source": [
        "# Tokenización"
      ]
    },
    {
      "cell_type": "code",
      "metadata": {
        "id": "vigPZgAzBsmm"
      },
      "source": [
        "def tokenizacion(corpus):\n",
        "    newCorpus = []\n",
        "    for doc in corpus:\n",
        "        newCorpus.append(nlp(doc))\n",
        "    return newCorpus"
      ],
      "execution_count": 10,
      "outputs": []
    },
    {
      "cell_type": "markdown",
      "metadata": {
        "id": "BjFU-qK7HFLV"
      },
      "source": [
        "# Remove StopWords"
      ]
    },
    {
      "cell_type": "code",
      "metadata": {
        "id": "TrDg3SCGHIKC"
      },
      "source": [
        "def removeStops(corpus):\n",
        "    newCorpus = []\n",
        "    for doc in corpus:\n",
        "        s = \"\"\n",
        "        for token in doc:\n",
        "            if(token.is_stop == False):\n",
        "                s = s + token.text + \" \"\n",
        "        newCorpus.append(s.strip())\n",
        "    return newCorpus   "
      ],
      "execution_count": 16,
      "outputs": []
    },
    {
      "cell_type": "markdown",
      "metadata": {
        "id": "AYRIJ_TiHWyV"
      },
      "source": [
        "# Stemming y Lemmatización"
      ]
    },
    {
      "cell_type": "code",
      "metadata": {
        "id": "pReSBEe9Hc_o"
      },
      "source": [
        "def stemmingLemmating(corpus):\n",
        "    documents = tokenizacion(corpus)\n",
        "    newCorpus = []\n",
        "    for doc in documents:\n",
        "        s = \"\"\n",
        "        for token in doc:\n",
        "            s = s + token.lemma_ + \" \"\n",
        "        newCorpus.append(s.strip())\n",
        "    return newCorpus"
      ],
      "execution_count": 30,
      "outputs": []
    },
    {
      "cell_type": "code",
      "metadata": {
        "id": "Lek6NSxZB7rb"
      },
      "source": [
        "def Transformacion(corpus,nombre):\n",
        "  corpus = \n",
        "  Newcorpus = Normalizacion(corpus)\n",
        "  CorpusToken = tokenizacion(corpus)\n",
        "  Newcorpus = CorpusToken\n",
        "  Newcorpus = removeStops(Newcorpus)\n",
        "  Newcorpus = stemmingLemmating(Newcorpus)\n",
        "\n",
        "  return Newcorpus"
      ],
      "execution_count": 32,
      "outputs": []
    },
    {
      "cell_type": "code",
      "metadata": {
        "id": "WASUZPcXPfdU"
      },
      "source": [
        "dataset1[\"corpus\"] = Transformacion(dataset1.tweet)"
      ],
      "execution_count": 33,
      "outputs": []
    },
    {
      "cell_type": "code",
      "metadata": {
        "colab": {
          "base_uri": "https://localhost:8080/",
          "height": 607
        },
        "id": "nCfFujE46HPn",
        "outputId": "9eaf08cf-4738-43a9-86f9-47e05ce42ca6"
      },
      "source": [
        "#for val in dataset1.corpus: \n",
        "\n",
        "   # typecaste each val to string \n",
        "#   val = str(val) \n",
        "\n",
        "   # split the value \n",
        "#   tokens = val.split() \n",
        "\n",
        "# Converts each token into lowercase \n",
        "#for i in range(len(tokens)): \n",
        "#    tokens[i] = tokens[i].lower() \n",
        "\n",
        "#for words in tokens: \n",
        "#    comment_words = comment_words + words + ' '\n",
        "\n",
        "\n",
        "wordcloud = WordCloud(width = 800, height = 800, \n",
        "            background_color ='white', \n",
        "            stopwords = stopwords, max_words=10,\n",
        "            min_font_size = 10).generate(dataset1.corpus.to_string().replace(\"mileycyrus\",\"\")) \n",
        "\n",
        "# plot the WordCloud image                        \n",
        "plt.figure(figsize = (8, 8), facecolor = None) \n",
        "plt.imshow(wordcloud) \n",
        "plt.axis(\"off\") \n",
        "plt.tight_layout(pad = 0) \n",
        "\n",
        "plt.show() "
      ],
      "execution_count": 40,
      "outputs": [
        {
          "output_type": "display_data",
          "data": {
            "image/png": "[encoded data removed]",
            "text/plain": [
              "<Figure size 576x576 with 1 Axes>"
            ]
          },
          "metadata": {
            "needs_background": "light"
          }
        }
      ]
    }
  ]
}