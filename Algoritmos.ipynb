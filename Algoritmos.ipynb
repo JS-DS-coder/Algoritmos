{
  "nbformat": 4,
  "nbformat_minor": 0,
  "metadata": {
    "colab": {
      "name": "Algoritmos.ipynb",
      "provenance": [],
      "collapsed_sections": [],
      "authorship_tag": "ABX9TyOk0y9intVsjlcmjlI+kVvi",
      "include_colab_link": true
    },
    "kernelspec": {
      "display_name": "Python 3",
      "name": "python3"
    },
    "language_info": {
      "name": "python"
    }
  },
  "cells": [
    {
      "cell_type": "markdown",
      "metadata": {
        "id": "view-in-github",
        "colab_type": "text"
      },
      "source": [
        "<a href=\"https://colab.research.google.com/github/JS-DS-coder/Algoritmos/blob/main/Algoritmos.ipynb\" target=\"_parent\"><img src=\"https://colab.research.google.com/assets/colab-badge.svg\" alt=\"Open In Colab\"/></a>"
      ]
    },
    {
      "cell_type": "code",
      "metadata": {
        "id": "E7eGK_zFtr5i"
      },
      "source": [
        "import pandas\n",
        "import re"
      ],
      "execution_count": null,
      "outputs": []
    },
    {
      "cell_type": "code",
      "metadata": {
        "id": "xChyu3CF8ieY"
      },
      "source": [
        "def evaluate_FxFY(str_equ, valX,valY):\n",
        "  x = valX\n",
        "  y = valY\n",
        "  #strOut = str_equ\n",
        "  strOut = str_equ.replace(\"x\", '*(x)')\n",
        "  strOut = strOut.replace(\"y\", '*(y)')\n",
        "  strOut = strOut.replace(\"^\", \"**\")\n",
        "  strout = strOut.replace(\"***\",\"**\")\n",
        "  print('---->',strOut)\n",
        "  out = eval(strOut)\n",
        "  print(strOut)\n",
        "  return out"
      ],
      "execution_count": null,
      "outputs": []
    },
    {
      "cell_type": "code",
      "metadata": {
        "id": "kSsaSH7W8Kmx"
      },
      "source": [
        "import math \n",
        "def evaluate_Fx(str_equ, valX):\n",
        "  x = valX\n",
        "  #strOut = str_equ\n",
        "  strOut = str_equ.replace(\"x\", '*(x)')\n",
        "  strOut = strOut.replace(\"^\", \"**\")\n",
        "  \n",
        "  strOut = strOut.replace(\"***\",\"**\")\n",
        "  strOut = strOut.replace(\"e**(x)\",\"math.exp(x)\")\n",
        "  strOut = strOut.replace(\"e**(x+h)\",\"math.exp(x+h)\")\n",
        "  print(\"1. \",strOut)\n",
        "  out = eval(strOut)\n",
        "  print(strOut)\n",
        "  return out"
      ],
      "execution_count": null,
      "outputs": []
    },
    {
      "cell_type": "code",
      "metadata": {
        "id": "QW_ZBZLf_hcW"
      },
      "source": [
        "def evaluate_derivate_fxfy(str_equ, x, y, h):\n",
        "  \n",
        "  strOut = str_equ.replace(\"x\", '*(x + h)')\n",
        "  strOut = strOut.replace(\"y\", '*(y + h)')\n",
        "  print(strOut)\n",
        "  strOut = strOut.replace(\"^\", \"**\")\n",
        "  strOut = \"(\" + strOut + \")\"\n",
        " \n",
        "  out = eval(strOut)\n",
        "\n",
        "  \n",
        "  strOut = str_equ.replace(\"x\", '*(x - h)')\n",
        "  strOut = strOut.replace(\"y\", '*(y - h)')\n",
        "  strOut = strOut.replace(\"^\", \"**\")\n",
        "  out = out - eval(strOut)\n",
        "  print(out)\n",
        "  \n",
        "  #strOut = str_equ.replace(\"x\", '*(x)')\n",
        "  #strOut = strOut.replace(\"^\", \"**\")\n",
        "  #strOut = \"(\" + strOut + \")\"\n",
        "  #print(strOut)\n",
        "  #out = out + eval(strOut)\n",
        "  \n",
        "  out = out/(2*h)\n",
        "  print(out)\n",
        "  return out"
      ],
      "execution_count": null,
      "outputs": []
    },
    {
      "cell_type": "code",
      "metadata": {
        "id": "GrVgZfXkCoeE"
      },
      "source": [
        "def evaluate_derivate_prog_fxfy(str_equ, x,y, h):\n",
        "  # F(Xo)\n",
        "  strOut = str_equ.replace(\"x\", '*(x)')\n",
        "  strOut = strOut.replace(\"y\", '*(y)')\n",
        "  print(strOut)\n",
        "  strOut = strOut.replace(\"^\", \"**\")\n",
        "  strOut = \"-3*(\" + strOut + \")\"\n",
        "  out = eval(strOut)\n",
        "\n",
        "  # \n",
        "\n",
        "  strOut = str_equ.replace(\"x\", '*(x + h)')\n",
        "  strOut = strOut.replace(\"y\", '*(y + h)')\n",
        "  print(strOut)\n",
        "  strOut = strOut.replace(\"^\", \"**\")\n",
        "  strOut = \"4*(\" + strOut + \")\"\n",
        " \n",
        "  out = out + eval(strOut)\n",
        "\n",
        "  \n",
        "  strOut = str_equ.replace(\"x\", '*(x + 2*h)')\n",
        "  strOut = strOut.replace(\"y\", '*(y + 2*h)')\n",
        "  strOut = strOut.replace(\"^\", \"**\")\n",
        "  out = out - eval(strOut)\n",
        "  print(out)\n",
        "  \n",
        "  #strOut = str_equ.replace(\"x\", '*(x)')\n",
        "  #strOut = strOut.replace(\"^\", \"**\")\n",
        "  #strOut = \"(\" + strOut + \")\"\n",
        "  #print(strOut)\n",
        "  #out = out + eval(strOut)\n",
        "  \n",
        "  out = out/(2*h)\n",
        "  print(out)\n",
        "  return out"
      ],
      "execution_count": null,
      "outputs": []
    },
    {
      "cell_type": "code",
      "metadata": {
        "id": "Ki9eZT6t8W0q"
      },
      "source": [
        "def evaluate_derivate_fx(str_equ, x, h):\n",
        "  \n",
        "  strOut = str_equ.replace(\"x\", '*(x + h)')\n",
        "  print('Entro a la derivada')\n",
        " \n",
        "  strOut = strOut.replace(\"^\", \"**\")\n",
        "  strOut = \"(\" + strOut + \")\"\n",
        "  strOut = strOut.replace(\"e***(x + h)\",\"math.exp(x+h)\")\n",
        "  out = eval(strOut)\n",
        "\n",
        "  \n",
        "  strOut = str_equ.replace(\"x\", '*(x - h)')\n",
        "\n",
        "  strOut = strOut.replace(\"^\", \"**\")\n",
        "  strOut = strOut.replace(\"e***(x - h)\",\"math.exp(x-h)\")\n",
        "  out = out - eval(strOut)\n",
        "  print(out)\n",
        "  \n",
        "  #strOut = str_equ.replace(\"x\", '*(x)')\n",
        "  #strOut = strOut.replace(\"^\", \"**\")\n",
        "  #strOut = \"(\" + strOut + \")\"\n",
        "  #print(strOut)\n",
        "  #out = out + eval(strOut)\n",
        "  \n",
        "  out = out/(2*h)\n",
        "  print(out)\n",
        "  return out"
      ],
      "execution_count": null,
      "outputs": []
    },
    {
      "cell_type": "code",
      "metadata": {
        "id": "cck1cFs4fH-X"
      },
      "source": [
        "def evaluate_derivate_prog_fx(str_equ, x, h):\n",
        "  # F(Xo)\n",
        "  strOut = str_equ.replace(\"x\", '*(x)')\n",
        "  print(strOut)\n",
        "  strOut = strOut.replace(\"^\", \"**\")\n",
        "  strOut = \"-3*(\" + strOut + \")\"\n",
        "  out = eval(strOut)\n",
        "\n",
        "  # \n",
        "\n",
        "  strOut = str_equ.replace(\"x\", '*(x + h)')\n",
        "  print(strOut)\n",
        "  strOut = strOut.replace(\"^\", \"**\")\n",
        "  strOut = \"4*(\" + strOut + \")\"\n",
        " \n",
        "  out = out + eval(strOut)\n",
        "\n",
        "  \n",
        "  strOut = str_equ.replace(\"x\", '*(x + 2*h)')\n",
        "  strOut = strOut.replace(\"^\", \"**\")\n",
        "  out = out - eval(strOut)\n",
        "  print(out)\n",
        "  \n",
        "  #strOut = str_equ.replace(\"x\", '*(x)')\n",
        "  #strOut = strOut.replace(\"^\", \"**\")\n",
        "  #strOut = \"(\" + strOut + \")\"\n",
        "  #print(strOut)\n",
        "  #out = out + eval(strOut)\n",
        "  \n",
        "  out = out/(2*h)\n",
        "  print(out)\n",
        "  return out"
      ],
      "execution_count": null,
      "outputs": []
    },
    {
      "cell_type": "code",
      "metadata": {
        "id": "14gi8t9zDOOa"
      },
      "source": [
        "def evaluate_derivate_finite_centerfxfy(str_equ, x,y, h):\n",
        "  \n",
        "  strOut = str_equ.replace(\"x\", '*(x - 2*h)')\n",
        "  strOut = strOut.replace(\"y\", '*(y - 2*h)')\n",
        "  strOut = strOut.replace(\"^\", \"**\")\n",
        "  out = eval(strOut)\n",
        "\n",
        "  strOut = str_equ.replace(\"x\", '*(x - h)')\n",
        "  strOut = strOut.replace(\"y\", '*(y - h)')\n",
        "  print(strOut)\n",
        "  strOut = strOut.replace(\"^\", \"**\")\n",
        "  strOut = \"-8*(\" + strOut + \")\"\n",
        " \n",
        "  out = out + eval(strOut)\n",
        "\n",
        "  strOut = str_equ.replace(\"x\", '*(x + h)')\n",
        "  strOut = strOut.replace(\"y\", '*(y + h)')\n",
        "  print(strOut)\n",
        "  strOut = strOut.replace(\"^\", \"**\")\n",
        "  strOut = \"8*(\" + strOut + \")\"\n",
        " \n",
        "  out = out + eval(strOut)\n",
        "\n",
        "  strOut = str_equ.replace(\"x\", '*(x + 2*h)')\n",
        "  strOut = strOut.replace(\"y\", '*(y + 2*h)')\n",
        "  strOut = strOut.replace(\"^\", \"**\")\n",
        "  out = out - eval(strOut)\n",
        "  # \n",
        "\n",
        " \n",
        "\n",
        "\n",
        "  print(out)\n",
        "  \n",
        "  #strOut = str_equ.replace(\"x\", '*(x)')\n",
        "  #strOut = strOut.replace(\"^\", \"**\")\n",
        "  #strOut = \"(\" + strOut + \")\"\n",
        "  #print(strOut)\n",
        "  #out = out + eval(strOut)\n",
        "  \n",
        "  out = out/(2*h)\n",
        "  print(out)\n",
        "  return out"
      ],
      "execution_count": null,
      "outputs": []
    },
    {
      "cell_type": "code",
      "metadata": {
        "id": "A36oAxPrhTJ8"
      },
      "source": [
        "def evaluate_derivate_finite_center(str_equ, x, h):\n",
        "  \n",
        "  strOut = str_equ.replace(\"x\", '*(x - 2*h)')\n",
        "  strOut = strOut.replace(\"^\", \"**\")\n",
        "  out = eval(strOut)\n",
        "\n",
        "  strOut = str_equ.replace(\"x\", '*(x - h)')\n",
        "  print(strOut)\n",
        "  strOut = strOut.replace(\"^\", \"**\")\n",
        "  strOut = \"-8*(\" + strOut + \")\"\n",
        " \n",
        "  out = out + eval(strOut)\n",
        "\n",
        "  strOut = str_equ.replace(\"x\", '*(x + h)')\n",
        "  print(strOut)\n",
        "  strOut = strOut.replace(\"^\", \"**\")\n",
        "  strOut = \"8*(\" + strOut + \")\"\n",
        " \n",
        "  out = out + eval(strOut)\n",
        "\n",
        "  strOut = str_equ.replace(\"x\", '*(x + 2*h)')\n",
        "  strOut = strOut.replace(\"^\", \"**\")\n",
        "  out = out - eval(strOut)\n",
        "  # \n",
        "\n",
        " \n",
        "\n",
        "\n",
        "  print(out)\n",
        "  \n",
        "  #strOut = str_equ.replace(\"x\", '*(x)')\n",
        "  #strOut = strOut.replace(\"^\", \"**\")\n",
        "  #strOut = \"(\" + strOut + \")\"\n",
        "  #print(strOut)\n",
        "  #out = out + eval(strOut)\n",
        "  \n",
        "  out = out/(2*h)\n",
        "  print(out)\n",
        "  return out"
      ],
      "execution_count": null,
      "outputs": []
    },
    {
      "cell_type": "code",
      "metadata": {
        "id": "Jo9hkeFl5E06"
      },
      "source": [
        "def newtonSolverXY(x0,y0, f_x, eps,func):\n",
        "  x0 = float(x0)\n",
        "  y0 = float(y0)\n",
        "  eps = float(eps)\n",
        "  xn = x0\n",
        "  yn = y0\n",
        "  error = 1\n",
        "  arrayIters = []\n",
        "  arrayF_x = []\n",
        "  arrayF_y = []\n",
        "  arrayf_x = []\n",
        "  arrayf_y = []\n",
        "  arrayXn = []\n",
        "  arrayYn = []\n",
        "  arrayErr = []\n",
        "  \n",
        "  i = 0\n",
        "  h = 0.001\n",
        "  while(error > eps):\n",
        "    print(\"...\")\n",
        "    if (func == 0):\n",
        "      valor = (evaluate_FxFY(f_x, xn,yn)/evaluate_derivate_fxfy(f_x, xn,yn, h))\n",
        "      x_n1 = xn - valor\n",
        "      y_n1 = yn - valor\n",
        "    elif (func == 1):\n",
        "      valor = (evaluate_FxFY(f_x, xn,yn)/evaluate_derivate_prog_fxfy(f_x, xn,yn, h)) \n",
        "      x_n1 = xn -  valor\n",
        "      y_n1 = yn - valor\n",
        "    elif (func==2):  \n",
        "      valor = (evaluate_FxFY(f_x, xn,yn)/evaluate_derivate_finite_centerfxfy(f_x, xn,yn, h))\n",
        "      x_n1 = xn - valor\n",
        "      y_n1 = yn - valor\n",
        "    error = abs(x_n1 - xn)\n",
        "    i = i + 1\n",
        "    xn = x_n1\n",
        "    yn = y_n1\n",
        "    arrayIters.append(i)\n",
        "    arrayXn.append(xn)\n",
        "    arrayYn.append(yn)\n",
        "    arrayErr.append(error)\n",
        "    solution = [i, xn, error]\n",
        "\n",
        "  print(\"Finalizo...\")\n",
        "  TableOut = pandas.DataFrame({'Iter':arrayIters, 'Xn':arrayXn,'Yn':arrayYn, 'Error': arrayErr}).to_numpy()\n",
        "  return TableOut"
      ],
      "execution_count": null,
      "outputs": []
    },
    {
      "cell_type": "code",
      "metadata": {
        "id": "5Oq-f3ZMxgud"
      },
      "source": [
        "def diferenciasfinitascentradas(x0,f_x,h):\n",
        "  x0 = float(x0)\n",
        "\n",
        "  xn = x0\n",
        "  error = 1\n",
        "  arrayIters = []\n",
        "  arrayF_x = []\n",
        "  arrayf_x = []\n",
        "  arrayXn = []\n",
        "  arrayErr = []\n",
        "  \n",
        "  i = 0\n",
        "  h = float(h)\n",
        "\n",
        "\n",
        "  fxo  = evaluate_Fx(f_x,xn)\n",
        "\n",
        "  fxo1h = evaluate_Fx(f_x,xn+h)\n",
        "  fxo2h = evaluate_Fx(f_x,xn-h)\n",
        "\n",
        "  fxo2__h = evaluate_Fx(f_x,xn+(2*h))\n",
        "  fxo2_h = evaluate_Fx(f_x,xn-(-2*h))\n",
        "\n",
        "\n",
        "  fxo2 = evaluate_Fx(f_x,xn+2*h)\n",
        "  xn = ((fxo2_h) - (8*fxo2h) + (8*fxo1h)-fxo2__h) / (12*h)\n",
        "\n",
        "\n",
        "  \n",
        "  return xn\n",
        "\n"
      ],
      "execution_count": null,
      "outputs": []
    },
    {
      "cell_type": "code",
      "metadata": {
        "id": "nbL3ohkUoNJG"
      },
      "source": [
        "def finitas_progresivas(x0,f_x,h):\n",
        "  x0 = float(x0)\n",
        "\n",
        "  xn = x0\n",
        "  error = 1\n",
        "  arrayIters = []\n",
        "  arrayF_x = []\n",
        "  arrayf_x = []\n",
        "  arrayXn = []\n",
        "  arrayErr = []\n",
        "  \n",
        "  i = 0\n",
        "  h = float(h)\n",
        "\n",
        "\n",
        "  fxo  = evaluate_Fx(f_x,xn)\n",
        "\n",
        "  fxo1 = evaluate_Fx(f_x,xn+h)\n",
        "  fxo2 = evaluate_Fx(f_x,xn+2*h)\n",
        "  xn = ((-3*fxo) + (4*fxo1) + (fxo2)) / (2*h)\n",
        "\n",
        "\n",
        "  \n",
        "  return xn\n",
        "\n",
        "\n"
      ],
      "execution_count": null,
      "outputs": []
    },
    {
      "cell_type": "code",
      "metadata": {
        "id": "8b5nJFQFXu9Z"
      },
      "source": [
        "def finitasCentradas(x0,f_x,h):\n",
        "  x0 = float(x0)\n",
        "\n",
        "  xn = x0\n",
        "  error = 1\n",
        "  arrayIters = []\n",
        "  arrayF_x = []\n",
        "  arrayf_x = []\n",
        "  arrayXn = []\n",
        "  arrayErr = []\n",
        "  \n",
        "  i = 0\n",
        "  h = float(h)\n",
        "\n",
        "\n",
        "\n",
        "  fxo1 = evaluate_Fx(f_x,xn+h)\n",
        "  fxo2 = evaluate_Fx(f_x,xn-h)\n",
        "  xn = (fxo1 + fxo2) / (2*h)\n",
        "\n",
        "  \n",
        "  return xn\n"
      ],
      "execution_count": null,
      "outputs": []
    },
    {
      "cell_type": "code",
      "metadata": {
        "colab": {
          "base_uri": "https://localhost:8080/"
        },
        "id": "V3fMRQtrclN4",
        "outputId": "c2d5bed2-509b-49ab-96ed-a721d7dcd306"
      },
      "source": [
        "diferenciasfinitascentradas(2,\"2x^2+10\",0.001)"
      ],
      "execution_count": null,
      "outputs": [
        {
          "output_type": "stream",
          "name": "stdout",
          "text": [
            "1.  2*(x)**2+10\n",
            "2*(x)**2+10\n",
            "1.  2*(x)**2+10\n",
            "2*(x)**2+10\n",
            "1.  2*(x)**2+10\n",
            "2*(x)**2+10\n",
            "1.  2*(x)**2+10\n",
            "2*(x)**2+10\n",
            "1.  2*(x)**2+10\n",
            "2*(x)**2+10\n",
            "1.  2*(x)**2+10\n",
            "2*(x)**2+10\n"
          ]
        },
        {
          "output_type": "execute_result",
          "data": {
            "text/plain": [
              "10.666666666665492"
            ]
          },
          "metadata": {},
          "execution_count": 15
        }
      ]
    },
    {
      "cell_type": "code",
      "metadata": {
        "id": "fZ6qhzUd8aGR"
      },
      "source": [
        "def newtonSolverX(x0, f_x, eps,kmax):\n",
        "  x0 = float(x0)\n",
        "  eps = float(eps)\n",
        "  kmax = float(kmax)\n",
        "  xn = x0\n",
        "  error = 1\n",
        "  arrayIters = []\n",
        "  arrayF_x = []\n",
        "  arrayf_x = []\n",
        "  arrayXn = []\n",
        "  arrayErr = []\n",
        "  \n",
        "  i = 0\n",
        "  h = 0.000001\n",
        "  while ((error > eps)and(i <= kmax)):\n",
        "    print(\"...\")\n",
        "    x_n1 = xn - (evaluate_Fx(f_x, xn)/evaluate_derivate_fx(f_x, xn, h))\n",
        "    error = abs(x_n1 - xn)\n",
        "    i = i + 1\n",
        "    xn = x_n1\n",
        "    arrayIters.append(i)\n",
        "    arrayXn.append(xn)\n",
        "    arrayErr.append(error)\n",
        "    solution = [i, xn, error]\n",
        "\n",
        "  print(\"Finalizo...\")\n",
        "  TableOut = pandas.DataFrame({'Iter':arrayIters, 'Xn':arrayXn, 'Error': arrayErr})\n",
        "  return TableOut\n"
      ],
      "execution_count": null,
      "outputs": []
    },
    {
      "cell_type": "code",
      "metadata": {
        "id": "p1QcdA9N8e7f"
      },
      "source": [
        "def add(a, b):\n",
        "  a = int(a)\n",
        "  b = int(b)\n",
        "  resultado = a + b\n",
        "  return \"El resultado es: \" + str(resultado)\n"
      ],
      "execution_count": null,
      "outputs": []
    },
    {
      "cell_type": "code",
      "metadata": {
        "id": "HRqHwrVY2Da9"
      },
      "source": [
        "def biseccion (x0,f_x, eps,a,b,kmax):\n",
        "  x0 = float(x0)\n",
        "  a  = float(a)\n",
        "  b  = float(b)\n",
        "  eps = float(eps)\n",
        "  xn =  (a+b)/2\n",
        "\n",
        "  error = 1\n",
        "\n",
        "  arrayIters = []\n",
        "  arrayF_x = []\n",
        "  arrayf_x = []\n",
        "  arrayXn = []\n",
        "  arrayErr = []\n",
        "  \n",
        "  i = 0\n",
        "  h = 0.001\n",
        "\n",
        "  print(xn)\n",
        "  while((abs(error) > eps) and (i <= kmax)):\n",
        "    fa  = evaluate_Fx(f_x, a)\n",
        "    fxk = evaluate_Fx(f_x, xn)\n",
        "    print(fa)\n",
        "    print(fxk)\n",
        "    if ((fa*fxk) < 0):\n",
        "      b = xn\n",
        "    else:\n",
        "      a = xn\n",
        "    xn_1 = xn\n",
        "    xn = (a+b)/2\n",
        "    print(xn)\n",
        "\n",
        "    error = abs(xn_1 - xn)\n",
        "    print(error)\n",
        "    i = i + 1\n",
        "    \n",
        "    arrayIters.append(i)\n",
        "    arrayXn.append(xn)\n",
        "    arrayErr.append(error)\n",
        "    solution = [i, xn, error]\n",
        "   \n",
        "\n",
        "  print(\"Finalizo...\")\n",
        "  TableOut = pandas.DataFrame({'Iter':arrayIters, 'Xn':arrayXn, 'Error': arrayErr})\n",
        "  \n",
        "  return TableOut\n",
        "\n",
        "\n"
      ],
      "execution_count": null,
      "outputs": []
    },
    {
      "cell_type": "code",
      "metadata": {
        "colab": {
          "base_uri": "https://localhost:8080/"
        },
        "id": "dU7Yy1DXPhCc",
        "outputId": "a7227d84-0cb2-42b9-c8ff-cccdb023776b"
      },
      "source": [
        "table = newtonSolverX(2,\"e^x+ 2x\",0.0001,200)\n",
        "#table = biseccion(0,\"e^x+2x\",0.000001,-1.5,1.5,40)"
      ],
      "execution_count": null,
      "outputs": [
        {
          "output_type": "stream",
          "name": "stdout",
          "text": [
            "...\n",
            "1.  math.exp(x)+ 2*(x)\n",
            "math.exp(x)+ 2*(x)\n",
            "Entro a la derivada\n",
            "1.8778112197637142e-05\n",
            "9.389056098818571\n",
            "...\n",
            "1.  math.exp(x)+ 2*(x)\n",
            "math.exp(x)+ 2*(x)\n",
            "Entro a la derivada\n",
            "8.393530960049134e-06\n",
            "4.196765480024567\n",
            "...\n",
            "1.  math.exp(x)+ 2*(x)\n",
            "math.exp(x)+ 2*(x)\n",
            "Entro a la derivada\n",
            "5.7889817774992025e-06\n",
            "2.8944908887496013\n",
            "...\n",
            "1.  math.exp(x)+ 2*(x)\n",
            "math.exp(x)+ 2*(x)\n",
            "Entro a la derivada\n",
            "5.418581907501441e-06\n",
            "2.7092909537507204\n",
            "...\n",
            "1.  math.exp(x)+ 2*(x)\n",
            "math.exp(x)+ 2*(x)\n",
            "Entro a la derivada\n",
            "5.406947328090439e-06\n",
            "2.7034736640452195\n",
            "Finalizo...\n"
          ]
        }
      ]
    },
    {
      "cell_type": "code",
      "metadata": {
        "colab": {
          "base_uri": "https://localhost:8080/",
          "height": 204
        },
        "id": "ORkqr2t0sut-",
        "outputId": "5906a8ae-b965-4c77-a900-36c45f09f2f4"
      },
      "source": [
        "pandas.set_option('display.max_rows', table.shape[0]+1)\n",
        "table"
      ],
      "execution_count": null,
      "outputs": [
        {
          "output_type": "execute_result",
          "data": {
            "text/html": [
              "<div>\n",
              "<style scoped>\n",
              "    .dataframe tbody tr th:only-of-type {\n",
              "        vertical-align: middle;\n",
              "    }\n",
              "\n",
              "    .dataframe tbody tr th {\n",
              "        vertical-align: top;\n",
              "    }\n",
              "\n",
              "    .dataframe thead th {\n",
              "        text-align: right;\n",
              "    }\n",
              "</style>\n",
              "<table border=\"1\" class=\"dataframe\">\n",
              "  <thead>\n",
              "    <tr style=\"text-align: right;\">\n",
              "      <th></th>\n",
              "      <th>Iter</th>\n",
              "      <th>Xn</th>\n",
              "      <th>Error</th>\n",
              "    </tr>\n",
              "  </thead>\n",
              "  <tbody>\n",
              "    <tr>\n",
              "      <th>0</th>\n",
              "      <td>1</td>\n",
              "      <td>0.786986</td>\n",
              "      <td>1.213014</td>\n",
              "    </tr>\n",
              "    <tr>\n",
              "      <th>1</th>\n",
              "      <td>2</td>\n",
              "      <td>-0.111501</td>\n",
              "      <td>0.898487</td>\n",
              "    </tr>\n",
              "    <tr>\n",
              "      <th>2</th>\n",
              "      <td>3</td>\n",
              "      <td>-0.343489</td>\n",
              "      <td>0.231989</td>\n",
              "    </tr>\n",
              "    <tr>\n",
              "      <th>3</th>\n",
              "      <td>4</td>\n",
              "      <td>-0.351725</td>\n",
              "      <td>0.008235</td>\n",
              "    </tr>\n",
              "    <tr>\n",
              "      <th>4</th>\n",
              "      <td>5</td>\n",
              "      <td>-0.351734</td>\n",
              "      <td>0.000009</td>\n",
              "    </tr>\n",
              "  </tbody>\n",
              "</table>\n",
              "</div>"
            ],
            "text/plain": [
              "   Iter        Xn     Error\n",
              "0     1  0.786986  1.213014\n",
              "1     2 -0.111501  0.898487\n",
              "2     3 -0.343489  0.231989\n",
              "3     4 -0.351725  0.008235\n",
              "4     5 -0.351734  0.000009"
            ]
          },
          "metadata": {},
          "execution_count": 20
        }
      ]
    },
    {
      "cell_type": "code",
      "metadata": {
        "colab": {
          "base_uri": "https://localhost:8080/"
        },
        "id": "xZIgoP3mEiFG",
        "outputId": "2814bba8-851a-4d03-e8d0-11ccb43e255b"
      },
      "source": [
        "table = newtonSolverXY(-5,1,\"12x^3-4x\",0.000001,0)\n",
        "print(table)"
      ],
      "execution_count": null,
      "outputs": [
        {
          "output_type": "stream",
          "name": "stdout",
          "text": [
            "...\n",
            "----> 12*(x)**3-4*(x)\n",
            "12*(x)**3-4*(x)\n",
            "12*(x + h)^3-4*(x + h)\n",
            "1.7920000240010268\n",
            "896.0000120005134\n",
            "...\n",
            "----> 12*(x)**3-4*(x)\n",
            "12*(x)**3-4*(x)\n",
            "12*(x + h)^3-4*(x + h)\n",
            "0.7991588356867965\n",
            "399.57941784339823\n",
            "...\n",
            "----> 12*(x)**3-4*(x)\n",
            "12*(x)**3-4*(x)\n",
            "12*(x + h)^3-4*(x + h)\n",
            "0.3579555306606892\n",
            "178.9777653303446\n",
            "...\n",
            "----> 12*(x)**3-4*(x)\n",
            "12*(x)**3-4*(x)\n",
            "12*(x + h)^3-4*(x + h)\n",
            "0.16199820444931134\n",
            "80.99910222465567\n",
            "...\n",
            "----> 12*(x)**3-4*(x)\n",
            "12*(x)**3-4*(x)\n",
            "12*(x + h)^3-4*(x + h)\n",
            "0.07520131841085487\n",
            "37.600659205427434\n",
            "...\n",
            "----> 12*(x)**3-4*(x)\n",
            "12*(x)**3-4*(x)\n",
            "12*(x + h)^3-4*(x + h)\n",
            "0.037264468741782686\n",
            "18.632234370891343\n",
            "...\n",
            "----> 12*(x)**3-4*(x)\n",
            "12*(x)**3-4*(x)\n",
            "12*(x + h)^3-4*(x + h)\n",
            "0.021682484341810415\n",
            "10.841242170905208\n",
            "...\n",
            "----> 12*(x)**3-4*(x)\n",
            "12*(x)**3-4*(x)\n",
            "12*(x + h)^3-4*(x + h)\n",
            "0.016722965495623576\n",
            "8.361482747811788\n",
            "...\n",
            "----> 12*(x)**3-4*(x)\n",
            "12*(x)**3-4*(x)\n",
            "12*(x + h)^3-4*(x + h)\n",
            "0.016015576516548613\n",
            "8.007788258274307\n",
            "...\n",
            "----> 12*(x)**3-4*(x)\n",
            "12*(x)**3-4*(x)\n",
            "12*(x + h)^3-4*(x + h)\n",
            "0.016000031573909723\n",
            "8.000015786954862\n",
            "Finalizo...\n",
            "[[ 1.00000000e+00 -3.34821431e+00  2.65178569e+00  1.65178569e+00]\n",
            " [ 2.00000000e+00 -2.25448783e+00  3.74551217e+00  1.09372648e+00]\n",
            " [ 3.00000000e+00 -1.53658252e+00  4.46341748e+00  7.17905309e-01]\n",
            " [ 4.00000000e+00 -1.07497606e+00  4.92502394e+00  4.61606458e-01]\n",
            " [ 5.00000000e+00 -7.92888923e-01  5.20711108e+00  2.82087139e-01]\n",
            " [ 6.00000000e+00 -6.42071954e-01  5.35792805e+00  1.50816969e-01]\n",
            " [ 7.00000000e+00 -5.85981388e-01  5.41401861e+00  5.60905653e-02]\n",
            " [ 8.00000000e+00 -5.77537307e-01  5.42246269e+00  8.44408171e-03]\n",
            " [ 9.00000000e+00 -5.77350360e-01  5.42264964e+00  1.86946304e-04]\n",
            " [ 1.00000000e+01 -5.77350269e-01  5.42264973e+00  9.10998140e-08]]\n"
          ]
        }
      ]
    },
    {
      "cell_type": "code",
      "metadata": {
        "id": "WVQyMVPPUNbZ"
      },
      "source": [
        "def Evaluate_derivateGD(str_equ,valX):\n",
        "  x = valX\n",
        "  #strOut = str_equ\n",
        "  strOut = str_equ.replace(\"x\", '*(x)')\n",
        "  strOut = strOut.replace(\"^\", \"**\")\n",
        "  \n",
        "  strOut = strOut.replace(\"***\",\"**\")\n",
        "  strOut = strOut.replace(\"e**(x)\",\"math.exp(x)\")\n",
        "  strOut = strOut.replace(\"e**(x+h)\",\"math.exp(x+h)\")\n",
        "  print(\"1. \",strOut)\n",
        "  out = eval(strOut)\n",
        "  print(strOut)\n",
        "  return out\n"
      ],
      "execution_count": null,
      "outputs": []
    },
    {
      "cell_type": "code",
      "metadata": {
        "id": "SURNv-MhijJ1"
      },
      "source": [
        "import numpy as np\n",
        "import pandas as pd\n",
        "import matplotlib.pyplot as plt\n"
      ],
      "execution_count": null,
      "outputs": []
    },
    {
      "cell_type": "code",
      "metadata": {
        "id": "HprQe93CiDqd"
      },
      "source": [
        "\n",
        "def alphak(gradientexk, Q):\n",
        "    #normGradiente2 = np.linalg.norm(gradientexk)**2\n",
        "    #return (normGradiente2/(np.matmul(gradientexk, np.matmul(gradientexk.transpose(), Q))))\n",
        "    return (np.matmul(gradientexk.transpose(), gradientexk)) / (np.matmul(gradientexk.transpose(), np.matmul(Q,gradientexk)))"
      ],
      "execution_count": null,
      "outputs": []
    },
    {
      "cell_type": "code",
      "metadata": {
        "id": "-CMe1FbwCsWn"
      },
      "source": [
        "def matrix (str):\n",
        "  x = np.array(np.matrix(str))\n",
        "  return x"
      ],
      "execution_count": null,
      "outputs": []
    },
    {
      "cell_type": "code",
      "metadata": {
        "id": "r--S11rCSUl4"
      },
      "source": [
        "def GradientDescent (func,x0,Q,C,e,N,Metodo,alpha):\n",
        "  i = 0\n",
        "  alfak = 0.001\n",
        "  xk = matrix(x0)\n",
        "  Q = matrix(Q)\n",
        "  C = matrix(C)\n",
        "  error = 9999\n",
        "  arrayIters = []\n",
        "  arrayXn = []\n",
        "  arrayGrad = []\n",
        "  arrayErr = []\n",
        "  while ((error > e)and(i <= N)):\n",
        "    gradientexk= np.matmul(Q,xk) + C\n",
        "   \n",
        "    #print(Q)\n",
        "    if (Metodo == \"EXACTO\"):\n",
        "      alphakn = alphak (gradientexk,Q)\n",
        "    elif (Metodo == \"CONSTANTE\"):\n",
        "      alphakn  = ([[alpha]])\n",
        "    elif (Metodo == \"VARIABLE\"):\n",
        "      if (i >= 1):\n",
        "        alphakn = 1/i  \n",
        "      else:\n",
        "        alphakn = 1\n",
        "\n",
        "\n",
        "    #print(alphakn)\n",
        "    #alphakn  = ([[0.0001]])\n",
        "    #print(gradientexk.shape)\n",
        "    #print(alphakn.shape)\n",
        "    #xk_1 = xk - np.matmul(alphakn,gradientexk)\n",
        "    xk_1 = xk -(alphakn*gradientexk)\n",
        "  \n",
        "    error = np.linalg.norm(gradientexk)\n",
        "    \n",
        "    xk = xk_1\n",
        "    #print(error)\n",
        "    i = i + 1\n",
        "\n",
        "    arrayIters.append(i)\n",
        "    arrayXn.append(xk_1)\n",
        "    arrayErr.append(error)\n",
        "    arrayGrad.append(gradientexk)  \n",
        "  solution = pd.DataFrame({'Iter':arrayIters, 'Xn':arrayXn,'Gradiente':arrayGrad ,'Error': arrayErr})\n",
        "  return solution "
      ],
      "execution_count": null,
      "outputs": []
    },
    {
      "cell_type": "code",
      "metadata": {
        "id": "r2lUkJKgjEq_"
      },
      "source": [
        "x = \"-1;2;-3\"\n",
        "C = \"1;0;1\"\n",
        "\n",
        "Q = \"2 -1 0;-1 2 -1;0 -1 2\"\n",
        "a = GradientDescent('',x,Q,C,0.000001,30,\"EXACTO\",1)\n",
        "\n"
      ],
      "execution_count": null,
      "outputs": []
    },
    {
      "cell_type": "code",
      "metadata": {
        "id": "OGApfxL1rqXQ"
      },
      "source": [
        "a"
      ],
      "execution_count": null,
      "outputs": []
    },
    {
      "cell_type": "code",
      "metadata": {
        "id": "Osrk8Llf8gIF"
      },
      "source": [
        "def PlotError (ploterror):\n",
        "  fig, ax = plt.subplots()\n",
        "  ax.plot(ploterror[\"Iter\"], ploterror[\"Error\"])\n",
        "  ax.set(xlabel='Iter', ylabel='Error',\n",
        "       title='Errores')\n",
        "  ax.grid()\n",
        "  plt.show()\n",
        "\n",
        "PlotError(a)"
      ],
      "execution_count": null,
      "outputs": []
    },
    {
      "cell_type": "code",
      "metadata": {
        "id": "rVojSdmbzjtu"
      },
      "source": [
        "def GradienteRosenBrock (x1,x2):\n",
        "  return np.array([[2*(200*x**3-(200*x1*x2)+(x1-1)),2]])"
      ],
      "execution_count": null,
      "outputs": []
    },
    {
      "cell_type": "code",
      "metadata": {
        "id": "90Ng7Hzy5g_w"
      },
      "source": [
        "print (GradienteRosenBrock(1,1))"
      ],
      "execution_count": null,
      "outputs": []
    },
    {
      "cell_type": "code",
      "metadata": {
        "id": "kNCLkmbRedJi"
      },
      "source": [
        "def RosenbrockFunction(x0,alpha,e,N):\n",
        "  fx1x2 = lambda x1,x2: (1-x1)**2 + 100(x2-x1**2)**2\n",
        "  gradiente = lambda x1,x2: np.array([2*(200*x1**3-(200*x1*x2)+(x1-1)),200*(x2-x1**2)]) \n",
        "  F  = lambda X: fx1fx2 (X[0],X[1])\n",
        "  dF = lambda X: gradiente(X[0],X[1]) \n",
        "  xk = x0\n",
        "  error = 9999\n",
        "  arrayIters = []\n",
        "  arrayXn = []\n",
        "  arrayGrad = []\n",
        "  arrayErr = []\n",
        "  i=0\n",
        "  while ((error > e)and(i <= N)):\n",
        "    print('xk: ',xk)\n",
        "    grad = dF(xk)\n",
        "    xk_1 = xk -(alpha*grad)\n",
        "    print('grad',grad)\n",
        "    error = np.linalg.norm(grad)\n",
        "    print('error',error)\n",
        "    xk = xk_1\n",
        "\n",
        "    i = i + 1\n",
        "\n",
        "    arrayIters.append(i)\n",
        "    arrayXn.append(xk_1)\n",
        "    arrayErr.append(error)\n",
        "    arrayGrad.append(grad)  \n",
        "  solution = pd.DataFrame({'Iter':arrayIters, 'Xn':arrayXn,'Gradiente':arrayGrad ,'Error': arrayErr})\n",
        "  return solution \n",
        "\n",
        "\n"
      ],
      "execution_count": null,
      "outputs": []
    },
    {
      "cell_type": "code",
      "metadata": {
        "id": "MHTl49LmjVTt"
      },
      "source": [
        "x = np.array([[0.98],[0.98]])\n",
        "a = RosenbrockFunction(x,0.0001,0.0000001,1000)\n"
      ],
      "execution_count": null,
      "outputs": []
    },
    {
      "cell_type": "code",
      "metadata": {
        "id": "0_Sb7nOMQxBd"
      },
      "source": [
        "pd.set_option('display.max_rows', a.shape[0]+1)\n",
        "a"
      ],
      "execution_count": null,
      "outputs": []
    },
    {
      "cell_type": "code",
      "metadata": {
        "id": "qhX2LISWD8ni"
      },
      "source": [
        "import numpy as np\n",
        "import pandas as pd\n",
        "from numpy import linalg as LA\n",
        "import matplotlib.pyplot as plt\n",
        "from sklearn.metrics import mean_squared_error"
      ],
      "execution_count": null,
      "outputs": []
    },
    {
      "cell_type": "code",
      "metadata": {
        "id": "vqfsONkVSdF9"
      },
      "source": [
        "def InicializaL4(n,d,ruta):\n",
        "  A = np.random.normal(0,1,size=(n,d))\n",
        "  x_true = np.random.normal(0,1,size=(d,1))\n",
        "  b = A.dot(x_true) + np.random.normal(0,0.5,size=(n,1))\n",
        "  np.savez(ruta,A=A,x_true=x_true,b=b)"
      ],
      "execution_count": null,
      "outputs": []
    },
    {
      "cell_type": "code",
      "metadata": {
        "id": "KR4i5SX7pkof"
      },
      "source": [
        "InicializaL4(1000,100,\"matrixes\")"
      ],
      "execution_count": null,
      "outputs": []
    },
    {
      "cell_type": "code",
      "metadata": {
        "id": "OhJKlb1LkRYN"
      },
      "source": [
        "def RMSE(A,x,b):\n",
        "  rmse = (1/(2*1000))*np.sum(np.power(A@x - b,2)) \n",
        "  return rmse\n",
        "\n"
      ],
      "execution_count": null,
      "outputs": []
    },
    {
      "cell_type": "code",
      "metadata": {
        "id": "Qg9PVPa_CcEH"
      },
      "source": [
        "#solucion cerrada Lab4 parte 1\n",
        "def SolucionCerrada (ruta):\n",
        "\n",
        "  data = np.load(ruta)\n",
        "  A = data[\"A\"]\n",
        "\n",
        "  x_true = data[\"x_true\"]\n",
        "\n",
        "  b = data[\"b\"]\n",
        "\n",
        "\n",
        "\n",
        "  #A = np.random.normal(0,1,size=(n,d))\n",
        "  #x_true = np.random.normal(0,1,size=(d,1))\n",
        "  #b = A.dot(x_true) + np.random.normal(0,0.5,size=(n,1))\n",
        "  #solucion cerrada\n",
        "  factor1 = A.transpose()@A \n",
        "  factor2 = A.transpose()@b\n",
        " \n",
        "  \n",
        "  x = np.linalg.inv(factor1) @ factor2\n",
        "\n",
        "  return RMSE(A,x,b) \n",
        "\n",
        "\n"
      ],
      "execution_count": null,
      "outputs": []
    },
    {
      "cell_type": "code",
      "metadata": {
        "id": "AbOW8gLCNpdw"
      },
      "source": [
        "def residue(x, A, b):\n",
        "    aux = np.dot(A, x) - b\n",
        "    aux = pow(LA.norm(aux, 2), 2)\n",
        "    aux = aux / pow(LA.norm(b, 2), 2)\n",
        "    return aux"
      ],
      "execution_count": null,
      "outputs": []
    },
    {
      "cell_type": "code",
      "metadata": {
        "colab": {
          "base_uri": "https://localhost:8080/"
        },
        "id": "P1Wu5lRSHENH",
        "outputId": "a5bad13a-abb6-4527-9983-293e4cdc1d6c"
      },
      "source": [
        "x = SolucionCerrada(\"matrixes.npz\")\n",
        "print(x)"
      ],
      "execution_count": null,
      "outputs": [
        {
          "output_type": "stream",
          "name": "stdout",
          "text": [
            "0.11358909984035581\n"
          ]
        }
      ]
    },
    {
      "cell_type": "code",
      "metadata": {
        "id": "tgnedEuEQAcw"
      },
      "source": [
        "def df_gd(A,b,x):\n",
        "    grad = A.dot(x)-b\n",
        "    return np.dot(A.T,grad)"
      ],
      "execution_count": null,
      "outputs": []
    },
    {
      "cell_type": "code",
      "metadata": {
        "id": "76UsIb-JKMNe"
      },
      "source": [
        "def SteepestDescent (ruta,alpha,k,e):\n",
        "\n",
        "  alpha = float(alpha)\n",
        "  k = int(k)\n",
        "\n",
        "  data = np.load(ruta)\n",
        "  A = data[\"A\"]\n",
        "\n",
        "  x_true = data[\"x_true\"]\n",
        "\n",
        "  b = data[\"b\"]\n",
        "\n",
        "  x = []\n",
        "  x = np.zeros((100,1))\n",
        "  \n",
        "  i = 0\n",
        "\n",
        "  error = 9999\n",
        "  arrayIters = []\n",
        "  arrayXn = []\n",
        "  arrayGrad = []\n",
        "  arrayErr = []\n",
        "  errori = [i]\n",
        "  while ((error > e)and(i <= k)):\n",
        "    \n",
        "    gradientexk = df_gd(A,b,x)\n",
        "\n",
        "    xk = x - alpha * gradientexk\n",
        " \n",
        "    #error = residue(x, A, b)\n",
        "    error = RMSE(A,xk,b)\n",
        "\n",
        "    x = xk\n",
        "    #print(error)\n",
        "    i = i + 1\n",
        "\n",
        "    arrayIters.append(i)\n",
        "    arrayXn.append(xk)\n",
        "    arrayErr.append(error)\n",
        "    arrayGrad.append(gradientexk)  \n",
        "  solution = pd.DataFrame({'Iter':arrayIters, 'Xn':arrayXn,'Gradiente':arrayGrad ,'Error': arrayErr})\n",
        "  dsError = pd.DataFrame({'iteracion':arrayIters,'error':arrayErr})\n",
        "  \n",
        "  \n",
        "  return solution,dsError \n"
      ],
      "execution_count": 48,
      "outputs": []
    },
    {
      "cell_type": "code",
      "metadata": {
        "id": "l6k3LivwAHoD"
      },
      "source": [
        "def PlotError (ploterror):\n",
        "  fig, ax = plt.subplots()\n",
        "  ax.plot(ploterror[\"iteracion\"], ploterror[\"error\"])\n",
        "  ax.set(xlabel='iteracion', ylabel='error',\n",
        "       title='Errores')\n",
        "  ax.grid()\n",
        "  plt.show()"
      ],
      "execution_count": null,
      "outputs": []
    },
    {
      "cell_type": "code",
      "metadata": {
        "colab": {
          "base_uri": "https://localhost:8080/",
          "height": 533
        },
        "id": "fHs8BTK0RCIh",
        "outputId": "b683f51d-e60a-4d16-8d8a-a84875377080"
      },
      "source": [
        "solution,error = SteepestDescent(\"matrixes.npz\",0.00005,200,0.0001)\n",
        "print(solution)\n",
        "PlotError(error)"
      ],
      "execution_count": 53,
      "outputs": [
        {
          "output_type": "stream",
          "name": "stdout",
          "text": [
            "     Iter  ...      Error\n",
            "0       1  ...  45.064267\n",
            "1       2  ...  40.198078\n",
            "2       3  ...  35.901132\n",
            "3       4  ...  32.102513\n",
            "4       5  ...  28.740575\n",
            "..    ...  ...        ...\n",
            "196   197  ...   0.113633\n",
            "197   198  ...   0.113630\n",
            "198   199  ...   0.113628\n",
            "199   200  ...   0.113626\n",
            "200   201  ...   0.113624\n",
            "\n",
            "[201 rows x 4 columns]\n"
          ]
        },
        {
          "output_type": "display_data",
          "data": {
            "image/png": "[encoded data removed]",
            "text/plain": [
              "<Figure size 432x288 with 1 Axes>"
            ]
          },
          "metadata": {
            "needs_background": "light"
          }
        }
      ]
    },
    {
      "cell_type": "code",
      "metadata": {
        "id": "zLlYXwrU7EmJ"
      },
      "source": [
        "def CreateBatches (A,b,Minibatch):\n",
        "  \n",
        "  n = 1000\n",
        "  mini_batches=[]\n",
        "  Complete_batches = int (np.floor(n/Minibatch))\n",
        "  for i in range (Complete_batches):\n",
        "    minibatch_A = A[i*Minibatch:(i+1)*Minibatch,:]\n",
        "    #minibatch_b = b[i*Minibatch:(i+1)*MiniBatch,:]\n",
        "    minibatch_b = b[i*Minibatch:(i+1)*Minibatch,:]\n",
        "    batch = (minibatch_A,minibatch_b)\n",
        "    mini_batches.append(batch)\n",
        "\n",
        "  if n % Minibatch != 0:\n",
        "    Complete_batches += Complete_batches\n",
        "    minibatch_A = A[n-Minibatch:N,:]\n",
        "    #minibatch_b = b[i*Minibatch:(i+1)*MiniBatch,:]\n",
        "    minibatch_b = x[n-Minibatch:N]\n",
        "    batch = (minibatch_A,minibatch_b)\n",
        "    mini_batches.append(batch)\n",
        "\n",
        "  return mini_batches,Complete_batches\n",
        "  \n"
      ],
      "execution_count": 51,
      "outputs": []
    },
    {
      "cell_type": "code",
      "metadata": {
        "id": "I7YNhGW149FA"
      },
      "source": [
        "def MiniBatchGradientDescent(ruta,alpha,k,e,batchSize):\n",
        "  alpha = float(alpha)\n",
        "  k = int(k)\n",
        "\n",
        "  data = np.load(ruta)\n",
        "  A = data[\"A\"]\n",
        "  x_true = data[\"x_true\"]\n",
        "  b = data[\"b\"]\n",
        "\n",
        "  x = []\n",
        "  x = np.zeros((100,1))\n",
        "  \n",
        "  i = 0\n",
        "\n",
        "  error = 9999\n",
        "  arrayIters = []\n",
        "  arrayXn = []\n",
        "  arrayGrad = []\n",
        "  arrayErr = []\n",
        "  errori = [i]\n",
        "  mini_batches,numbatches = CreateBatches(A,b,batchSize)\n",
        "  while ((error > e)and(i <= k)):\n",
        "    for j in range (numbatches):\n",
        "      Aj = mini_batches[j][0]\n",
        "      bj = mini_batches[j][1]\n",
        "\n",
        "      gradientexk = df_gd(Aj,bj,x)\n",
        "\n",
        "      xk = x - alpha * gradientexk\n",
        "      x  = xk\n",
        "    \n",
        "   \n",
        "    error = RMSE(A,xk,b)\n",
        "    i = i + 1\n",
        "    arrayIters.append(i)\n",
        "    arrayXn.append(xk)\n",
        "    arrayErr.append(error)\n",
        "    arrayGrad.append(gradientexk)  \n",
        "  \n",
        "  solution = pd.DataFrame({'Iter':arrayIters, 'Xn':arrayXn,'Gradiente':arrayGrad ,'Error': arrayErr})\n",
        "  dsError = pd.DataFrame({'iteracion':arrayIters,'error':arrayErr})\n",
        "  \n",
        "  \n",
        "  return solution,dsError "
      ],
      "execution_count": 46,
      "outputs": []
    },
    {
      "cell_type": "code",
      "metadata": {
        "colab": {
          "base_uri": "https://localhost:8080/",
          "height": 533
        },
        "id": "tjauX4-sPsqG",
        "outputId": "130cb272-6a5a-4ad6-e772-3d5060118ddd"
      },
      "source": [
        "solution,error = MiniBatchGradientDescent(\"matrixes.npz\",0.00005,500,0.0001,25)\n",
        "print(solution)\n",
        "PlotError(error)"
      ],
      "execution_count": 52,
      "outputs": [
        {
          "output_type": "stream",
          "name": "stdout",
          "text": [
            "     Iter  ...      Error\n",
            "0       1  ...  45.207526\n",
            "1       2  ...  40.449000\n",
            "2       3  ...  36.231057\n",
            "3       4  ...  32.488471\n",
            "4       5  ...  29.164262\n",
            "..    ...  ...        ...\n",
            "496   497  ...   0.113592\n",
            "497   498  ...   0.113592\n",
            "498   499  ...   0.113592\n",
            "499   500  ...   0.113592\n",
            "500   501  ...   0.113592\n",
            "\n",
            "[501 rows x 4 columns]\n"
          ]
        },
        {
          "output_type": "display_data",
          "data": {
            "image/png": "[encoded data removed]",
            "text/plain": [
              "<Figure size 432x288 with 1 Axes>"
            ]
          },
          "metadata": {
            "needs_background": "light"
          }
        }
      ]
    },
    {
      "cell_type": "code",
      "metadata": {
        "id": "F73Zo1SeRZFZ"
      },
      "source": [
        "def StochasticGradientDescent(ruta,alpha,k,e,batchSize):\n",
        "  alpha = float(alpha)\n",
        "  k = int(k)\n",
        "\n",
        "  data = np.load(ruta)\n",
        "  A = data[\"A\"]\n",
        "  x_true = data[\"x_true\"]\n",
        "  b = data[\"b\"]\n",
        "\n",
        "  x = []\n",
        "  x = np.zeros((100,1))\n",
        "  \n",
        "  i = 0\n",
        "\n",
        "  error = 9999\n",
        "  arrayIters = []\n",
        "  arrayXn = []\n",
        "  arrayGrad = []\n",
        "  arrayErr = []\n",
        "  errori = [i]\n",
        "  mini_batches,numbatches = CreateBatches(A,b,batchSize)\n",
        "  while ((error > e)and(i <= k)):\n",
        "    for j in range (numbatches):\n",
        "      Aj = mini_batches[j][0]\n",
        "      bj = mini_batches[j][1]\n",
        "\n",
        "      gradientexk = df_gd(Aj,bj,x)\n",
        "\n",
        "      xk = x - alpha * gradientexk\n",
        "      x  = xk\n",
        "    \n",
        "   \n",
        "    error = RMSE(A,xk,b)\n",
        "    i = i + 1\n",
        "    arrayIters.append(i)\n",
        "    arrayXn.append(xk)\n",
        "    arrayErr.append(error)\n",
        "    arrayGrad.append(gradientexk)  \n",
        "  \n",
        "  solution = pd.DataFrame({'Iter':arrayIters, 'Xn':arrayXn,'Gradiente':arrayGrad ,'Error': arrayErr})\n",
        "  dsError = pd.DataFrame({'iteracion':arrayIters,'error':arrayErr})\n",
        "  \n",
        "  \n",
        "  return solution,dsError "
      ],
      "execution_count": 55,
      "outputs": []
    },
    {
      "cell_type": "code",
      "metadata": {
        "colab": {
          "base_uri": "https://localhost:8080/",
          "height": 533
        },
        "id": "MCnvFARqReCv",
        "outputId": "ef21488f-62f2-4f8e-9f87-87646ef2bcd5"
      },
      "source": [
        "solution,error = StochasticGradientDescent(\"matrixes.npz\",0.00005,500,0.0001,1000)\n",
        "print(solution)\n",
        "PlotError(error)"
      ],
      "execution_count": 56,
      "outputs": [
        {
          "output_type": "stream",
          "name": "stdout",
          "text": [
            "     Iter  ...      Error\n",
            "0       1  ...  45.064267\n",
            "1       2  ...  40.198078\n",
            "2       3  ...  35.901132\n",
            "3       4  ...  32.102513\n",
            "4       5  ...  28.740575\n",
            "..    ...  ...        ...\n",
            "496   497  ...   0.113589\n",
            "497   498  ...   0.113589\n",
            "498   499  ...   0.113589\n",
            "499   500  ...   0.113589\n",
            "500   501  ...   0.113589\n",
            "\n",
            "[501 rows x 4 columns]\n"
          ]
        },
        {
          "output_type": "display_data",
          "data": {
            "image/png": "[encoded data removed]",
            "text/plain": [
              "<Figure size 432x288 with 1 Axes>"
            ]
          },
          "metadata": {
            "needs_background": "light"
          }
        }
      ]
    },
    {
      "cell_type": "code",
      "metadata": {
        "id": "53UyPvS0RUmT"
      },
      "source": [
        "#Backtracking-Armijo Line Search:\n",
        "def backtracking_line_search(funcxk, funcxk_1, deltax,  beta, alpha):\n",
        "  if funcxk <= funcxk_1 + (beta * alpha * deltax):\n",
        "        alpha *= beta\n",
        "\n",
        "  return alpha"
      ],
      "execution_count": null,
      "outputs": []
    },
    {
      "cell_type": "code",
      "metadata": {
        "id": "eRirdV10Z-yD"
      },
      "source": [
        "def fx1x2__(x,y):\n",
        "  return (1-x)**2 + 100 ()"
      ],
      "execution_count": null,
      "outputs": []
    },
    {
      "cell_type": "code",
      "metadata": {
        "id": "liajEKHU3uJs"
      },
      "source": [
        "def RosenbrockFunctionL4(x0,alpha,beta,e,N):\n",
        "  fx1x2_ = lambda x11,x21: (1-x11)**2 + 100*(x21-x11**2)**2\n",
        "  gradiente = lambda x1,x2: np.array([2*(200*x1**3-(200*x1*x2)+(x1-1)),200*(x2-x1**2)]) \n",
        "  F  = lambda X1: fx1x2_(X1[0],X1[1])\n",
        "  dF = lambda X: gradiente(X[0],X[1]) \n",
        "  xk = x0\n",
        "  error = 9999\n",
        "  beta = 0.5\n",
        "  \n",
        "  arrayIters = []\n",
        "  arrayXn = []\n",
        "  arrayGrad = []\n",
        "  arrayErr = []\n",
        "  i=0\n",
        "  while ((error > e)and(i <= N)):\n",
        "    \n",
        "    grad = dF(xk)\n",
        "    xk_1 = xk -(alpha*grad)\n",
        "    alpha =  backtracking_line_search(F(xk_1),F(xk),grad,beta,alpha) \n",
        "    error = np.linalg.norm(grad)\n",
        "\n",
        "    xk = xk_1\n",
        "\n",
        "    i = i + 1\n",
        "\n",
        "    arrayIters.append(i)\n",
        "    arrayXn.append(xk_1)\n",
        "    arrayErr.append(error)\n",
        "    arrayGrad.append(grad)  \n",
        "  solution = pd.DataFrame({'Iter':arrayIters, 'Xn':arrayXn,'Gradiente':arrayGrad ,'Error': arrayErr})\n",
        "  return solution "
      ],
      "execution_count": null,
      "outputs": []
    },
    {
      "cell_type": "code",
      "metadata": {
        "colab": {
          "base_uri": "https://localhost:8080/",
          "height": 324
        },
        "id": "BBGNgkBaVp3l",
        "outputId": "e5ba77c2-8cd0-4ade-f486-e5ca070b8fbd"
      },
      "source": [
        "x = np.array([[0],[0]])\n",
        "a = RosenbrockFunctionL4(x,1,0.5,0.000001,1000)"
      ],
      "execution_count": null,
      "outputs": [
        {
          "output_type": "error",
          "ename": "ValueError",
          "evalue": "ignored",
          "traceback": [
            "\u001b[0;31m---------------------------------------------------------------------------\u001b[0m",
            "\u001b[0;31mValueError\u001b[0m                                Traceback (most recent call last)",
            "\u001b[0;32m<ipython-input-7-583e41c8db0b>\u001b[0m in \u001b[0;36m<module>\u001b[0;34m()\u001b[0m\n\u001b[1;32m      1\u001b[0m \u001b[0mx\u001b[0m \u001b[0;34m=\u001b[0m \u001b[0mnp\u001b[0m\u001b[0;34m.\u001b[0m\u001b[0marray\u001b[0m\u001b[0;34m(\u001b[0m\u001b[0;34m[\u001b[0m\u001b[0;34m[\u001b[0m\u001b[0;36m0\u001b[0m\u001b[0;34m]\u001b[0m\u001b[0;34m,\u001b[0m\u001b[0;34m[\u001b[0m\u001b[0;36m0\u001b[0m\u001b[0;34m]\u001b[0m\u001b[0;34m]\u001b[0m\u001b[0;34m)\u001b[0m\u001b[0;34m\u001b[0m\u001b[0;34m\u001b[0m\u001b[0m\n\u001b[0;32m----> 2\u001b[0;31m \u001b[0ma\u001b[0m \u001b[0;34m=\u001b[0m \u001b[0mRosenbrockFunctionL4\u001b[0m\u001b[0;34m(\u001b[0m\u001b[0mx\u001b[0m\u001b[0;34m,\u001b[0m\u001b[0;36m1\u001b[0m\u001b[0;34m,\u001b[0m\u001b[0;36m0.5\u001b[0m\u001b[0;34m,\u001b[0m\u001b[0;36m0.000001\u001b[0m\u001b[0;34m,\u001b[0m\u001b[0;36m1000\u001b[0m\u001b[0;34m)\u001b[0m\u001b[0;34m\u001b[0m\u001b[0;34m\u001b[0m\u001b[0m\n\u001b[0m",
            "\u001b[0;32m<ipython-input-6-dac92ff56752>\u001b[0m in \u001b[0;36mRosenbrockFunctionL4\u001b[0;34m(x0, alpha, beta, e, N)\u001b[0m\n\u001b[1;32m     17\u001b[0m     \u001b[0mgrad\u001b[0m \u001b[0;34m=\u001b[0m \u001b[0mdF\u001b[0m\u001b[0;34m(\u001b[0m\u001b[0mxk\u001b[0m\u001b[0;34m)\u001b[0m\u001b[0;34m\u001b[0m\u001b[0;34m\u001b[0m\u001b[0m\n\u001b[1;32m     18\u001b[0m     \u001b[0mxk_1\u001b[0m \u001b[0;34m=\u001b[0m \u001b[0mxk\u001b[0m \u001b[0;34m-\u001b[0m\u001b[0;34m(\u001b[0m\u001b[0malpha\u001b[0m\u001b[0;34m*\u001b[0m\u001b[0mgrad\u001b[0m\u001b[0;34m)\u001b[0m\u001b[0;34m\u001b[0m\u001b[0;34m\u001b[0m\u001b[0m\n\u001b[0;32m---> 19\u001b[0;31m     \u001b[0malpha\u001b[0m \u001b[0;34m=\u001b[0m  \u001b[0mbacktracking_line_search\u001b[0m\u001b[0;34m(\u001b[0m\u001b[0mF\u001b[0m\u001b[0;34m(\u001b[0m\u001b[0mxk_1\u001b[0m\u001b[0;34m)\u001b[0m\u001b[0;34m,\u001b[0m\u001b[0mF\u001b[0m\u001b[0;34m(\u001b[0m\u001b[0mxk\u001b[0m\u001b[0;34m)\u001b[0m\u001b[0;34m,\u001b[0m\u001b[0mgrad\u001b[0m\u001b[0;34m,\u001b[0m\u001b[0mbeta\u001b[0m\u001b[0;34m,\u001b[0m\u001b[0malpha\u001b[0m\u001b[0;34m)\u001b[0m\u001b[0;34m\u001b[0m\u001b[0;34m\u001b[0m\u001b[0m\n\u001b[0m\u001b[1;32m     20\u001b[0m     \u001b[0merror\u001b[0m \u001b[0;34m=\u001b[0m \u001b[0mnp\u001b[0m\u001b[0;34m.\u001b[0m\u001b[0mlinalg\u001b[0m\u001b[0;34m.\u001b[0m\u001b[0mnorm\u001b[0m\u001b[0;34m(\u001b[0m\u001b[0mgrad\u001b[0m\u001b[0;34m)\u001b[0m\u001b[0;34m\u001b[0m\u001b[0;34m\u001b[0m\u001b[0m\n\u001b[1;32m     21\u001b[0m \u001b[0;34m\u001b[0m\u001b[0m\n",
            "\u001b[0;32m<ipython-input-4-d57bd821a915>\u001b[0m in \u001b[0;36mbacktracking_line_search\u001b[0;34m(funcxk, funcxk_1, deltax, beta, alpha)\u001b[0m\n\u001b[1;32m      1\u001b[0m \u001b[0;31m#Backtracking-Armijo Line Search:\u001b[0m\u001b[0;34m\u001b[0m\u001b[0;34m\u001b[0m\u001b[0;34m\u001b[0m\u001b[0m\n\u001b[1;32m      2\u001b[0m \u001b[0;32mdef\u001b[0m \u001b[0mbacktracking_line_search\u001b[0m\u001b[0;34m(\u001b[0m\u001b[0mfuncxk\u001b[0m\u001b[0;34m,\u001b[0m \u001b[0mfuncxk_1\u001b[0m\u001b[0;34m,\u001b[0m \u001b[0mdeltax\u001b[0m\u001b[0;34m,\u001b[0m  \u001b[0mbeta\u001b[0m\u001b[0;34m,\u001b[0m \u001b[0malpha\u001b[0m\u001b[0;34m)\u001b[0m\u001b[0;34m:\u001b[0m\u001b[0;34m\u001b[0m\u001b[0;34m\u001b[0m\u001b[0m\n\u001b[0;32m----> 3\u001b[0;31m   \u001b[0;32mif\u001b[0m \u001b[0mfuncxk\u001b[0m \u001b[0;34m<=\u001b[0m \u001b[0mfuncxk_1\u001b[0m \u001b[0;34m+\u001b[0m \u001b[0;34m(\u001b[0m\u001b[0mbeta\u001b[0m \u001b[0;34m*\u001b[0m \u001b[0malpha\u001b[0m \u001b[0;34m*\u001b[0m \u001b[0mdeltax\u001b[0m\u001b[0;34m)\u001b[0m\u001b[0;34m:\u001b[0m\u001b[0;34m\u001b[0m\u001b[0;34m\u001b[0m\u001b[0m\n\u001b[0m\u001b[1;32m      4\u001b[0m         \u001b[0malpha\u001b[0m \u001b[0;34m*=\u001b[0m \u001b[0mbeta\u001b[0m\u001b[0;34m\u001b[0m\u001b[0;34m\u001b[0m\u001b[0m\n\u001b[1;32m      5\u001b[0m \u001b[0;34m\u001b[0m\u001b[0m\n",
            "\u001b[0;31mValueError\u001b[0m: The truth value of an array with more than one element is ambiguous. Use a.any() or a.all()"
          ]
        }
      ]
    }
  ]
}