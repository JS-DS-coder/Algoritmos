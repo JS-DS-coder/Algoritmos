{
  "nbformat": 4,
  "nbformat_minor": 0,
  "metadata": {
    "colab": {
      "provenance": [],
      "authorship_tag": "ABX9TyNVrHQX9aJWJhTSiez/VYqX",
      "include_colab_link": true
    },
    "kernelspec": {
      "name": "python3",
      "display_name": "Python 3"
    },
    "language_info": {
      "name": "python"
    }
  },
  "cells": [
    {
      "cell_type": "markdown",
      "metadata": {
        "id": "view-in-github",
        "colab_type": "text"
      },
      "source": [
        "<a href=\"https://colab.research.google.com/github/JS-DS-coder/Algoritmos/blob/main/Copia_de_Untitled17.ipynb\" target=\"_parent\"><img src=\"https://colab.research.google.com/assets/colab-badge.svg\" alt=\"Open In Colab\"/></a>"
      ]
    },
    {
      "cell_type": "markdown",
      "source": [
        "**Laboratorio 1**\n",
        "\n",
        "Ing. Jairo Salazar"
      ],
      "metadata": {
        "id": "vJJcoG0oX7ez"
      }
    },
    {
      "cell_type": "code",
      "source": [
        "import numpy as np\n",
        "import timeit"
      ],
      "metadata": {
        "id": "V8rGRLA6YKtg"
      },
      "execution_count": null,
      "outputs": []
    },
    {
      "cell_type": "code",
      "source": [
        "a = np.array([1,2,3])\n",
        "a"
      ],
      "metadata": {
        "colab": {
          "base_uri": "https://localhost:8080/"
        },
        "id": "HNHNy0xwYWBV",
        "outputId": "621226f2-5a31-481b-f750-fb1583aa2854"
      },
      "execution_count": null,
      "outputs": [
        {
          "output_type": "execute_result",
          "data": {
            "text/plain": [
              "array([1, 2, 3])"
            ]
          },
          "metadata": {},
          "execution_count": 25
        }
      ]
    },
    {
      "cell_type": "code",
      "source": [
        "b =  np.array([(1.5,2,3),(2.3,1,3)],dtype=float)\n",
        "b"
      ],
      "metadata": {
        "colab": {
          "base_uri": "https://localhost:8080/"
        },
        "id": "skcZPudKYtjh",
        "outputId": "f86b34d3-88f4-4a0b-e508-6312a297f75f"
      },
      "execution_count": null,
      "outputs": [
        {
          "output_type": "execute_result",
          "data": {
            "text/plain": [
              "array([[1.5, 2. , 3. ],\n",
              "       [2.3, 1. , 3. ]])"
            ]
          },
          "metadata": {},
          "execution_count": 26
        }
      ]
    },
    {
      "cell_type": "code",
      "source": [
        "c = np.array([[(1.5,2,3), (4,5,6)],[(3,2,1), (4,5,6)]], dtype = float)\n",
        "c"
      ],
      "metadata": {
        "colab": {
          "base_uri": "https://localhost:8080/"
        },
        "id": "Nmd79fZMYuen",
        "outputId": "ee83346f-46ec-4000-c57f-c10a479d023e"
      },
      "execution_count": null,
      "outputs": [
        {
          "output_type": "execute_result",
          "data": {
            "text/plain": [
              "array([[[1.5, 2. , 3. ],\n",
              "        [4. , 5. , 6. ]],\n",
              "\n",
              "       [[3. , 2. , 1. ],\n",
              "        [4. , 5. , 6. ]]])"
            ]
          },
          "metadata": {},
          "execution_count": 8
        }
      ]
    },
    {
      "cell_type": "code",
      "source": [
        "d = np.arange(15000)\n",
        "d"
      ],
      "metadata": {
        "colab": {
          "base_uri": "https://localhost:8080/"
        },
        "id": "7u_3dnUichD0",
        "outputId": "ed17edb7-77b0-4948-d89e-ac6643819567"
      },
      "execution_count": null,
      "outputs": [
        {
          "output_type": "execute_result",
          "data": {
            "text/plain": [
              "array([    0,     1,     2, ..., 14997, 14998, 14999])"
            ]
          },
          "metadata": {},
          "execution_count": 14
        }
      ]
    },
    {
      "cell_type": "markdown",
      "source": [
        "El poder de PYTHON son las operaciones VECTORIZADAS"
      ],
      "metadata": {
        "id": "hdPyGEZZb5-4"
      }
    },
    {
      "cell_type": "code",
      "source": [
        "# iterative sum\n",
        "total = 0\n",
        "for item in range(0, 15000):\n",
        "    total += item\n",
        "a = total\n",
        "print(\"\\n\" + str(a))\n",
        "\n",
        "print(\"Time taken by iterative sum : \", end = \"\")\n",
        "%timeit a"
      ],
      "metadata": {
        "colab": {
          "base_uri": "https://localhost:8080/"
        },
        "id": "tjbibj5UcS3f",
        "outputId": "60a1a1a0-9e66-4ee3-e97a-b78821fced0c"
      },
      "execution_count": null,
      "outputs": [
        {
          "output_type": "stream",
          "name": "stdout",
          "text": [
            "\n",
            "112492500\n",
            "Time taken by iterative sum : 33.6 ns ± 0.312 ns per loop (mean ± std. dev. of 7 runs, 10000000 loops each)\n"
          ]
        }
      ]
    },
    {
      "cell_type": "code",
      "source": [
        "# vectorized sum\n",
        "print(np.sum(d))\n",
        "\n",
        "print(\"Time taken by vectorized sum : \", end = \"\")\n",
        "%timeit np.sum(d)"
      ],
      "metadata": {
        "colab": {
          "base_uri": "https://localhost:8080/"
        },
        "id": "AMtgyRCbccRS",
        "outputId": "b1000176-6d82-4052-db9b-39e4e151ef3a"
      },
      "execution_count": null,
      "outputs": [
        {
          "output_type": "stream",
          "name": "stdout",
          "text": [
            "112492500\n",
            "Time taken by vectorized sum : 7.07 µs ± 113 ns per loop (mean ± std. dev. of 7 runs, 100000 loops each)\n"
          ]
        }
      ]
    },
    {
      "cell_type": "markdown",
      "source": [
        "**Operaciones vectorizadas**"
      ],
      "metadata": {
        "id": "tZKGf4XudKPc"
      }
    },
    {
      "cell_type": "code",
      "source": [
        "g = a + b\n",
        "g"
      ],
      "metadata": {
        "colab": {
          "base_uri": "https://localhost:8080/"
        },
        "id": "dUdHXLB5beBJ",
        "outputId": "ae40ed0d-ce44-48af-dea8-bb820dabede4"
      },
      "execution_count": null,
      "outputs": [
        {
          "output_type": "execute_result",
          "data": {
            "text/plain": [
              "array([[2.5, 4. , 6. ],\n",
              "       [3.3, 3. , 6. ]])"
            ]
          },
          "metadata": {},
          "execution_count": 10
        }
      ]
    },
    {
      "cell_type": "code",
      "source": [
        "h = a/b\n",
        "h"
      ],
      "metadata": {
        "colab": {
          "base_uri": "https://localhost:8080/"
        },
        "id": "y34eYucpdOba",
        "outputId": "696df1fa-e296-41e9-b55f-8e5705b72b70"
      },
      "execution_count": null,
      "outputs": [
        {
          "output_type": "execute_result",
          "data": {
            "text/plain": [
              "array([[7.49950000e+07, 5.62462500e+07, 3.74975000e+07],\n",
              "       [4.89097826e+07, 1.12492500e+08, 3.74975000e+07]])"
            ]
          },
          "metadata": {},
          "execution_count": 23
        }
      ]
    },
    {
      "cell_type": "code",
      "source": [
        "a==b\n",
        "a<b"
      ],
      "metadata": {
        "colab": {
          "base_uri": "https://localhost:8080/"
        },
        "id": "kHxZZRoddw5D",
        "outputId": "c2a175b3-2e31-4858-c785-21b815cce714"
      },
      "execution_count": null,
      "outputs": [
        {
          "output_type": "execute_result",
          "data": {
            "text/plain": [
              "array([[ True,  True,  True],\n",
              "       [ True, False,  True]])"
            ]
          },
          "metadata": {},
          "execution_count": 28
        }
      ]
    },
    {
      "cell_type": "code",
      "source": [
        "#comentario\n",
        "a.sum()\n",
        "a.min()\n",
        "b.max(axis=0)\n",
        "b.mean()\n",
        "np.median(b)\n",
        "np.corrcoef(a)\n",
        "np.std(b)\n"
      ],
      "metadata": {
        "colab": {
          "base_uri": "https://localhost:8080/"
        },
        "id": "SLe-L7vXeFrw",
        "outputId": "f0819f62-6ff1-46f5-ce7d-dc5a8eed6523"
      },
      "execution_count": null,
      "outputs": [
        {
          "output_type": "execute_result",
          "data": {
            "text/plain": [
              "0.7340905181848413"
            ]
          },
          "metadata": {},
          "execution_count": 37
        }
      ]
    },
    {
      "cell_type": "markdown",
      "source": [
        "**IF THEN ELSE**"
      ],
      "metadata": {
        "id": "KwrznqjsfKlL"
      }
    },
    {
      "cell_type": "code",
      "source": [
        "edad_alumno = 15 #bloque1\n",
        "edad_minima_votacion = 18 #bloque1\n",
        "\n",
        "if edad_alumno >= edad_minima_votacion :\n",
        "\n",
        "    print(\"El alumno puede votar\") # bloque2\n",
        "    print(\"Generar horario de votación\") #bloque2\n",
        "else:\n",
        "    print(\"El alumno no puede votar\") #bloque3\n",
        "\n",
        "print(\"Esto no es parte del 'if' ni del 'else' y se ejecuta despues de estos bloques de código independientemente\") #bloque4"
      ],
      "metadata": {
        "colab": {
          "base_uri": "https://localhost:8080/"
        },
        "id": "YWaYJaunfKYr",
        "outputId": "ca4b1f41-e14d-42ea-e6db-8a23b310b5b9"
      },
      "execution_count": null,
      "outputs": [
        {
          "output_type": "stream",
          "name": "stdout",
          "text": [
            "El alumno no puede votar\n",
            "Esto no es parte del 'if' ni del 'else' y se ejecuta despues de estos bloques de código independientemente\n"
          ]
        }
      ]
    },
    {
      "cell_type": "code",
      "source": [
        "x = 0.4\n",
        "if   0 < x < 1:\n",
        "    print(\"x se encuentra entre 0 y 1\")"
      ],
      "metadata": {
        "colab": {
          "base_uri": "https://localhost:8080/"
        },
        "id": "C_a2VXcpfIpu",
        "outputId": "0076724e-482a-48f9-9386-3d6f17e4029d"
      },
      "execution_count": null,
      "outputs": [
        {
          "output_type": "stream",
          "name": "stdout",
          "text": [
            "x se encuentra entre 0 y 1\n"
          ]
        }
      ]
    },
    {
      "cell_type": "code",
      "source": [
        "monto = 1000.00\n",
        "pais = \"HN\"\n",
        "interes = 0.0\n",
        "\n",
        "if pais == \"GT\":\n",
        "    interes = 0.1\n",
        "elif pais == \"ES\":\n",
        "    interes = 0.15\n",
        "elif pais == \"HN\":\n",
        "    interes = 0.05\n",
        "elif pais == \"NI\":\n",
        "    interes = 0.2\n",
        "elif pais == \"CR\":\n",
        "    interes = 0.07\n",
        "elif pais == \"PA\":\n",
        "    interes = 0.08\n",
        "else:\n",
        "    print(\"Alerta: Pais no valido :\",pais)\n",
        "\n",
        "#nuevo_monto = monto + (monto*interes)\n",
        "monto += (monto * interes)\n",
        "nuevo_monto = monto\n",
        "print(\"Monto con intereses:\",nuevo_monto)"
      ],
      "metadata": {
        "colab": {
          "base_uri": "https://localhost:8080/"
        },
        "id": "TsNjW4glfvQC",
        "outputId": "54b32b40-7917-4bcb-d318-bcd20fc5145e"
      },
      "execution_count": null,
      "outputs": [
        {
          "output_type": "stream",
          "name": "stdout",
          "text": [
            "Monto con intereses: 1050.0\n"
          ]
        }
      ]
    }
  ]
}