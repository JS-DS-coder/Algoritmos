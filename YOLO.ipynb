{
  "nbformat": 4,
  "nbformat_minor": 0,
  "metadata": {
    "colab": {
      "name": "YOLO.ipynb",
      "provenance": [],
      "collapsed_sections": [],
      "authorship_tag": "ABX9TyMeifdyeuzi84kRg4w5dNLb",
      "include_colab_link": true
    },
    "kernelspec": {
      "name": "python3",
      "display_name": "Python 3"
    },
    "language_info": {
      "name": "python"
    }
  },
  "cells": [
    {
      "cell_type": "markdown",
      "metadata": {
        "id": "view-in-github",
        "colab_type": "text"
      },
      "source": [
        "<a href=\"https://colab.research.google.com/github/JS-DS-coder/Algoritmos/blob/main/YOLO.ipynb\" target=\"_parent\"><img src=\"https://colab.research.google.com/assets/colab-badge.svg\" alt=\"Open In Colab\"/></a>"
      ]
    },
    {
      "cell_type": "code",
      "metadata": {
        "id": "LeiACSUTS-He"
      },
      "source": [
        "import os\n",
        "import time\n",
        "import cv2\n",
        "import numpy as np\n",
        "from   model.yolo_model import YOLO\n",
        "import random"
      ],
      "execution_count": 8,
      "outputs": []
    },
    {
      "cell_type": "code",
      "metadata": {
        "id": "TSLrOM0rUSfa"
      },
      "source": [
        "def process_image(img):\n",
        "  image = cv2.resize (img,(416,416),interpolation=cv2.INTER_CUBIC)\n",
        "  image = np.array(image,dtype=\"float32\")\n",
        "  image = image/255.\n",
        "  image = np.expand_dims(image,axis=0)\n",
        "  return image"
      ],
      "execution_count": 21,
      "outputs": []
    },
    {
      "cell_type": "code",
      "metadata": {
        "id": "umEYv2NwWTBV"
      },
      "source": [
        "def get_classes(file):\n",
        "  with open(file) as f:\n",
        "    class_names = f.readlines()\n",
        "\n",
        "  class_names = [c.strip() for c in class_names]\n",
        "  return class_names"
      ],
      "execution_count": 16,
      "outputs": []
    },
    {
      "cell_type": "code",
      "metadata": {
        "id": "TgxrhBIfWuVV"
      },
      "source": [
        "def draw_box(image,boxes,scores,classes,all_classes):\n",
        "  for box,score,cl in zip(boxes,scores,classes):\n",
        "    x,y,w,h = box\n",
        "\n",
        "    top = max(0,np.floor(x+0.5).astype(int))\n",
        "    left = max(0,np.floor(y+0.5).astype(int))\n",
        "    right = min(image.shape[1],np.floor(x+w+0.5).astype(int))\n",
        "    bottom = min(image.shape[0],np.floor(y+h+0.5).astype(int))\n",
        "\n",
        "    color = (random.randint(0,255),255,random.randint(0,255))\n",
        "    cv2.rectangle(image,(top,left),(right,bottom),color,2)\n",
        "\n",
        "    cv2.putText(image,'{0} {1:.2f}'.format(all_classes[cl],score),(top,left-6),cv2.FONT_HERSHEY_SIMPLEX,0.6,color,1,cv2.LINE_AA)\n",
        "    print ('clase : {0},score: {1:.2f}'.format(all_classes[cl],score))\n",
        "    print ('coordenadas: x,y,w,h: {0}'.format(box))"
      ],
      "execution_count": 25,
      "outputs": []
    },
    {
      "cell_type": "code",
      "metadata": {
        "id": "ma4uzj53Z_rG"
      },
      "source": [
        "def detect_image(image,yolo,all_classes):\n",
        "  p_image = process_image(image)\n",
        "  start = time.time()\n",
        "  boxes,classes,scores = yolo.predict(p_image,image.shape)\n",
        "  end = time.time()\n",
        "  print ('Tiempo de procesamiento: {0:.2f} '.format(end-start))\n",
        "\n",
        "  if (boxes is not None):\n",
        "    draw_box(image,boxes,scores,classes,all_classes)\n",
        "\n",
        "  return image"
      ],
      "execution_count": 11,
      "outputs": []
    },
    {
      "cell_type": "code",
      "metadata": {
        "colab": {
          "base_uri": "https://localhost:8080/"
        },
        "id": "srsKdazcb0qZ",
        "outputId": "d27ffea5-760a-4fe5-aaed-e195f33e5836"
      },
      "source": [
        "yolo = YOLO(0.6,0.5)  #probabilidad minima para deteccion de un objeto,\n",
        "file = './data/coco_classes.txt'\n",
        "all_classes = get_classes(file)"
      ],
      "execution_count": 17,
      "outputs": [
        {
          "output_type": "stream",
          "name": "stdout",
          "text": [
            "WARNING:tensorflow:No training configuration found in the save file, so the model was *not* compiled. Compile it manually.\n"
          ]
        }
      ]
    },
    {
      "cell_type": "code",
      "metadata": {
        "colab": {
          "base_uri": "https://localhost:8080/"
        },
        "id": "5VBmd12nc15k",
        "outputId": "5425bf0a-50e4-468e-8087-ce814c9aba4b"
      },
      "source": [
        "image = 'teddybear.jpeg'\n",
        "img = cv2.imread(image)\n",
        "yoloimg = detect_image(img,yolo,all_classes)\n"
      ],
      "execution_count": 30,
      "outputs": [
        {
          "output_type": "stream",
          "name": "stdout",
          "text": [
            "Tiempo de procesamiento: 1.31 \n",
            "clase : person,score: 0.99\n",
            "coordenadas: x,y,w,h: [136.45718944  27.36760283 333.72196269 342.85906768]\n",
            "clase : person,score: 0.62\n",
            "coordenadas: x,y,w,h: [  2.40311873 142.43155718 157.99163711 173.46550598]\n",
            "clase : teddy bear,score: 0.99\n",
            "coordenadas: x,y,w,h: [193.38733971 138.30725241 218.44812432 245.41221043]\n"
          ]
        }
      ]
    },
    {
      "cell_type": "code",
      "metadata": {
        "colab": {
          "base_uri": "https://localhost:8080/"
        },
        "id": "LI5DWovydG0I",
        "outputId": "efe4518e-0efe-4921-f020-c6a1164f741d"
      },
      "source": [
        "cv2.imwrite('imagenyolo3.jpg',yoloimg)"
      ],
      "execution_count": 31,
      "outputs": [
        {
          "output_type": "execute_result",
          "data": {
            "text/plain": [
              "True"
            ]
          },
          "metadata": {},
          "execution_count": 31
        }
      ]
    }
  ]
}