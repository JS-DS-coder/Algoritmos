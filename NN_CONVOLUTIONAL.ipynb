{
  "nbformat": 4,
  "nbformat_minor": 0,
  "metadata": {
    "colab": {
      "name": "NN_CONVOLUTIONAL.ipynb",
      "provenance": [],
      "collapsed_sections": [],
      "authorship_tag": "ABX9TyMNuD24Px0GBaVjZixSdKqI",
      "include_colab_link": true
    },
    "kernelspec": {
      "name": "python3",
      "display_name": "Python 3"
    },
    "language_info": {
      "name": "python"
    }
  },
  "cells": [
    {
      "cell_type": "markdown",
      "metadata": {
        "id": "view-in-github",
        "colab_type": "text"
      },
      "source": [
        "<a href=\"https://colab.research.google.com/github/JS-DS-coder/Algoritmos/blob/main/NN_CONVOLUTIONAL.ipynb\" target=\"_parent\"><img src=\"https://colab.research.google.com/assets/colab-badge.svg\" alt=\"Open In Colab\"/></a>"
      ]
    },
    {
      "cell_type": "code",
      "execution_count": null,
      "metadata": {
        "id": "GL3xrMQBUKuI"
      },
      "outputs": [],
      "source": [
        "\n",
        "import _pickle as c_pickle, gzip\n",
        "import numpy as np\n",
        "from tqdm import tqdm\n",
        "import torch\n",
        "import torch.autograd as autograd\n",
        "import torch.nn.functional as F\n",
        "import torch.nn as nn\n",
        "import sys\n",
        "sys.path.append(\"..\")\n",
        "import utils\n",
        "from utils import *\n",
        "from train_utils import batchify_data, run_epoch, train_model, Flatten\n",
        "\n",
        "def main():\n",
        "    # Load the dataset\n",
        "    num_classes = 10\n",
        "    X_train, y_train, X_test, y_test = get_MNIST_data()\n",
        "\n",
        "    # We need to rehape the data back into a 1x28x28 image\n",
        "    X_train = np.reshape(X_train, (X_train.shape[0], 1, 28, 28))\n",
        "    X_test = np.reshape(X_test, (X_test.shape[0], 1, 28, 28))\n",
        "\n",
        "    # Split into train and dev\n",
        "    dev_split_index = int(9 * len(X_train) / 10)\n",
        "    X_dev = X_train[dev_split_index:]\n",
        "    y_dev = y_train[dev_split_index:]\n",
        "    X_train = X_train[:dev_split_index]\n",
        "    y_train = y_train[:dev_split_index]\n",
        "\n",
        "    permutation = np.array([i for i in range(len(X_train))])\n",
        "    np.random.shuffle(permutation)\n",
        "    X_train = [X_train[i] for i in permutation]\n",
        "    y_train = [y_train[i] for i in permutation]\n",
        "\n",
        "    # Split dataset into batches\n",
        "    batch_size = 32\n",
        "    train_batches = batchify_data(X_train, y_train, batch_size)\n",
        "    dev_batches = batchify_data(X_dev, y_dev, batch_size)\n",
        "    test_batches = batchify_data(X_test, y_test, batch_size)\n",
        "\n",
        "    #################################\n",
        "    ## Model specification TODO\n",
        "#pragma: coderesponse template name=\"pytorchcnn\" dedent=\"true\"\n",
        "    model = nn.Sequential(\n",
        "              nn.Conv2d(1, 32, (3, 3)),\n",
        "              nn.ReLU(),\n",
        "              nn.MaxPool2d((2, 2)),\n",
        "              nn.Conv2d(32, 64, (3,3)),\n",
        "              nn.ReLU(),\n",
        "              nn.MaxPool2d((2, 2)),\n",
        "              Flatten(),\n",
        "              nn.Linear(1600,128),\n",
        "              nn.Dropout(p = 0.5),\n",
        "              nn.Linear(128,10)\n",
        "            )\n",
        "#pragma: coderesponse end\n",
        "    ##################################\n",
        "\n",
        "    train_model(train_batches, dev_batches, model, nesterov=True)\n",
        "\n",
        "    ## Evaluate the model on test data\n",
        "    loss, accuracy = run_epoch(test_batches, model.eval(), None)\n",
        "\n",
        "    print (\"Loss on test set:\"  + str(loss) + \" Accuracy on test set: \" + str(accuracy))\n",
        "\n",
        "\n",
        "if __name__ == '__main__':\n",
        "    # Specify seed for deterministic behavior, then shuffle. Do not change seed for official submissions to edx\n",
        "    np.random.seed(12321)  # for reproducibility\n",
        "    torch.manual_seed(12321)\n",
        "    main()"
      ]
    }
  ]
}